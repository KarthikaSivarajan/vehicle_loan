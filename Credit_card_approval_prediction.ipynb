{
 "cells": [
  {
   "cell_type": "markdown",
   "id": "542f4fe8",
   "metadata": {},
   "source": [
    "# Business objective"
   ]
  },
  {
   "cell_type": "markdown",
   "id": "1438e42e",
   "metadata": {},
   "source": [
    "This app predicts if an applicant will be approved for a credit card or not. Each time there is a hard enquiry your credit score is affected negatively. This app predict the probability of being approved without affecting your credit score. This app can be used by applicant who wants to find out if they will be approved for a credit card without affecting their credit score."
   ]
  },
  {
   "cell_type": "markdown",
   "id": "f4ac461a",
   "metadata": {},
   "source": [
    "# 0. import the necessary packages"
   ]
  },
  {
   "cell_type": "code",
   "execution_count": null,
   "id": "46deb3b2",
   "metadata": {
    "hidden": true,
    "id": "46deb3b2"
   },
   "outputs": [],
   "source": [
    "import numpy as np\n",
    "import pandas as pd\n",
    "import missingno as msno\n",
    "import matplotlib\n",
    "import matplotlib.pyplot as plt\n",
    "import seaborn as sns\n",
    "import warnings\n",
    "from pandas.core.common import SettingWithCopyWarning\n",
    "from pandas_profiling import ProfileReport\n",
    "from pathlib import Path\n",
    "from scipy.stats import probplot, chi2_contingency, chi2\n",
    "from sklearn.model_selection import train_test_split, GridSearchCV, RandomizedSearchCV, cross_val_score, cross_val_predict\n",
    "from sklearn.base import BaseEstimator, TransformerMixin\n",
    "from sklearn.pipeline import Pipeline\n",
    "from sklearn.calibration import CalibratedClassifierCV\n",
    "from sklearn.compose import ColumnTransformer\n",
    "from sklearn.preprocessing import OneHotEncoder, MinMaxScaler, OrdinalEncoder\n",
    "from sklearn.metrics import ConfusionMatrixDisplay, classification_report, roc_curve, roc_auc_score\n",
    "from imblearn.over_sampling import SMOTE\n",
    "from sklearn.linear_model import SGDClassifier, LogisticRegression\n",
    "from sklearn.svm import SVC\n",
    "from sklearn.tree import DecisionTreeClassifier\n",
    "from sklearn.ensemble import RandomForestClassifier, GradientBoostingClassifier, BaggingClassifier, AdaBoostClassifier, ExtraTreesClassifier\n",
    "from sklearn.naive_bayes import GaussianNB\n",
    "from sklearn.neighbors import KNeighborsClassifier\n",
    "from sklearn.discriminant_analysis import LinearDiscriminantAnalysis\n",
    "from sklearn.neural_network import MLPClassifier\n",
    "from sklearn.inspection import permutation_importance\n",
    "import scikitplot as skplt\n",
    "from yellowbrick.model_selection import FeatureImportances\n",
    "import scipy.stats as stats\n",
    "import joblib\n",
    "import os\n",
    "%matplotlib inline"
   ]
  },
  {
   "cell_type": "markdown",
   "id": "1441097c",
   "metadata": {},
   "source": [
    "# 1. Get the data"
   ]
  },
  {
   "cell_type": "markdown",
   "id": "7798b179",
   "metadata": {},
   "source": [
    "## 1.1 import csv file"
   ]
  },
  {
   "cell_type": "code",
   "execution_count": null,
   "id": "08b89053",
   "metadata": {
    "colab": {
     "base_uri": "https://localhost:8080/"
    },
    "id": "08b89053",
    "outputId": "00881095-43c8-4dbb-c660-f031ef0c5873"
   },
   "outputs": [],
   "source": [
    "cc_data_full_data = pd.read_csv('dataset/application_record.csv')\n",
    "credit_status = pd.read_csv('dataset/credit_record.csv')"
   ]
  },
  {
   "cell_type": "markdown",
   "id": "ea57b124",
   "metadata": {},
   "source": [
    "## 1.2 creating the target variable"
   ]
  },
  {
   "cell_type": "code",
   "execution_count": null,
   "id": "1efea0f1",
   "metadata": {
    "id": "1efea0f1"
   },
   "outputs": [],
   "source": [
    "begin_month=pd.DataFrame(credit_status.groupby(['ID'])['MONTHS_BALANCE'].agg(min))\n",
    "begin_month=begin_month.rename(columns={'MONTHS_BALANCE':'Account age'})\n",
    "cc_data_full_data=pd.merge(cc_data_full_data,begin_month,how='left',on='ID')\n",
    "credit_status['dep_value'] = None\n",
    "credit_status['dep_value'][credit_status['STATUS'] =='2']='Yes'\n",
    "credit_status['dep_value'][credit_status['STATUS'] =='3']='Yes'\n",
    "credit_status['dep_value'][credit_status['STATUS'] =='4']='Yes'\n",
    "credit_status['dep_value'][credit_status['STATUS'] =='5']='Yes'\n",
    "cpunt=credit_status.groupby('ID').count()\n",
    "cpunt['dep_value'][cpunt['dep_value'] > 0]='Yes'\n",
    "cpunt['dep_value'][cpunt['dep_value'] == 0]='No'\n",
    "cpunt = cpunt[['dep_value']]\n",
    "cc_data_full_data = pd.merge(cc_data_full_data,cpunt,how='inner',on='ID')\n",
    "cc_data_full_data['Is high risk']=cc_data_full_data['dep_value']\n",
    "cc_data_full_data.loc[cc_data_full_data['Is high risk']=='Yes','Is high risk']=1\n",
    "cc_data_full_data.loc[cc_data_full_data['Is high risk']=='No','Is high risk']=0\n",
    "cc_data_full_data.drop('dep_value',axis=1,inplace=True)\n",
    "pd.options.mode.chained_assignment = None # hide warning SettingWithCopyWarning"
   ]
  },
  {
   "cell_type": "markdown",
   "id": "69c79f63",
   "metadata": {},
   "source": [
    "## 1.3 Rename features"
   ]
  },
  {
   "cell_type": "code",
   "execution_count": null,
   "id": "f0f2df32",
   "metadata": {
    "id": "f0f2df32"
   },
   "outputs": [],
   "source": [
    "# rename the features to a more readable feature names\n",
    "cc_data_full_data = cc_data_full_data.rename(columns={\n",
    "    'CODE_GENDER':'Gender',\n",
    "    'FLAG_OWN_CAR':'Has a car',\n",
    "    'FLAG_OWN_REALTY':'Has a property',\n",
    "    'CNT_CHILDREN':'Children count',\n",
    "    'AMT_INCOME_TOTAL':'Income',\n",
    "    'NAME_INCOME_TYPE':'Employment status',\n",
    "    'NAME_EDUCATION_TYPE':'Education level',\n",
    "    'NAME_FAMILY_STATUS':'Marital status',\n",
    "    'NAME_HOUSING_TYPE':'Dwelling',\n",
    "    'DAYS_BIRTH':'Age',\n",
    "    'DAYS_EMPLOYED': 'Employment length',\n",
    "    'FLAG_MOBIL': 'Has a mobile phone',\n",
    "    'FLAG_WORK_PHONE': 'Has a work phone',\n",
    "    'FLAG_PHONE': 'Has a phone',\n",
    "    'FLAG_EMAIL': 'Has an email',\n",
    "    'OCCUPATION_TYPE': 'Job title',\n",
    "    'CNT_FAM_MEMBERS': 'Family member count',\n",
    "    'Account age': 'Account age'\n",
    "    })"
   ]
  },
  {
   "cell_type": "markdown",
   "id": "15295a4d",
   "metadata": {},
   "source": [
    "## 1.4 Split the data into training and test sets, creating a copy of the datasets"
   ]
  },
  {
   "cell_type": "code",
   "execution_count": null,
   "id": "d9ed66b5",
   "metadata": {
    "id": "d9ed66b5"
   },
   "outputs": [],
   "source": [
    "# split the data into train and test\n",
    "def data_split(df, test_size):\n",
    "    train_df, test_df = train_test_split(df, test_size=test_size, random_state=42)\n",
    "    return train_df.reset_index(drop=True), test_df.reset_index(drop=True)"
   ]
  },
  {
   "cell_type": "code",
   "execution_count": null,
   "id": "2a3579a8",
   "metadata": {},
   "outputs": [],
   "source": [
    "cc_train_original, cc_test_original = data_split(cc_data_full_data, 0.2)"
   ]
  },
  {
   "cell_type": "code",
   "execution_count": null,
   "id": "ceba7729",
   "metadata": {},
   "outputs": [],
   "source": [
    "cc_train_original.shape"
   ]
  },
  {
   "cell_type": "code",
   "execution_count": null,
   "id": "b94df2f9",
   "metadata": {},
   "outputs": [],
   "source": [
    "cc_test_original.shape"
   ]
  },
  {
   "cell_type": "code",
   "execution_count": null,
   "id": "8edd5177",
   "metadata": {},
   "outputs": [],
   "source": [
    "cc_train_original.to_csv('dataset/train.csv',index=False)"
   ]
  },
  {
   "cell_type": "code",
   "execution_count": null,
   "id": "073e4116",
   "metadata": {},
   "outputs": [],
   "source": [
    "cc_test_original.to_csv('dataset/test.csv',index=False)"
   ]
  },
  {
   "cell_type": "code",
   "execution_count": null,
   "id": "1857ec11",
   "metadata": {},
   "outputs": [],
   "source": [
    "# creating a copy of the dataset so that the original stays untouched\n",
    "cc_train_copy = cc_train_original.copy()\n",
    "cc_test_copy = cc_test_original.copy()"
   ]
  },
  {
   "cell_type": "markdown",
   "id": "715b8321",
   "metadata": {
    "id": "715b8321"
   },
   "source": [
    "# 2. Explore the Data"
   ]
  },
  {
   "cell_type": "markdown",
   "id": "51889ba3",
   "metadata": {},
   "source": [
    "## 2.0 Pandas Profiling"
   ]
  },
  {
   "cell_type": "code",
   "execution_count": null,
   "id": "77ef05c0",
   "metadata": {},
   "outputs": [],
   "source": [
    "profile_report = ProfileReport(cc_train_copy, explorative=True, dark_mode=True)\n",
    "profile_report_file_path = Path('pandas_profile_file/credit_pred_profile.html')\n",
    "\n",
    "# checking if the pandas profile report file exists in the current directory\n",
    "try:\n",
    "    profile_report_file_path.resolve(strict=True)\n",
    "except FileNotFoundError:\n",
    "    profile_report.to_file(\"pandas_profile_file/credit_pred_profile.html\")"
   ]
  },
  {
   "cell_type": "markdown",
   "id": "b4cf179a",
   "metadata": {},
   "source": [
    "## 2.1 Quick glance at the data"
   ]
  },
  {
   "cell_type": "code",
   "execution_count": null,
   "id": "0NDJvJIk4DnC",
   "metadata": {
    "id": "0NDJvJIk4DnC"
   },
   "outputs": [],
   "source": [
    "cc_data_full_data.head()"
   ]
  },
  {
   "cell_type": "code",
   "execution_count": null,
   "id": "Tsy-_XPMz4dm",
   "metadata": {
    "colab": {
     "base_uri": "https://localhost:8080/"
    },
    "id": "Tsy-_XPMz4dm",
    "outputId": "06a46cef-223d-42a5-f344-014512c5897c"
   },
   "outputs": [],
   "source": [
    "cc_data_full_data.info()"
   ]
  },
  {
   "cell_type": "code",
   "execution_count": null,
   "id": "8baf6713",
   "metadata": {
    "id": "8baf6713"
   },
   "outputs": [],
   "source": [
    "cc_data_full_data.describe()"
   ]
  },
  {
   "cell_type": "code",
   "execution_count": null,
   "id": "b4a38813",
   "metadata": {},
   "outputs": [],
   "source": [
    "msno.matrix(cc_data_full_data)\n",
    "plt.show()"
   ]
  },
  {
   "cell_type": "code",
   "execution_count": null,
   "id": "7508e03a",
   "metadata": {},
   "outputs": [],
   "source": [
    "msno.bar(cc_data_full_data)\n",
    "plt.show()"
   ]
  },
  {
   "cell_type": "markdown",
   "id": "202da9da",
   "metadata": {},
   "source": [
    "## 2.2 Functions used to explore each feature"
   ]
  },
  {
   "cell_type": "code",
   "execution_count": null,
   "id": "X2DnChyC8DmH",
   "metadata": {
    "colab": {
     "base_uri": "https://localhost:8080/"
    },
    "id": "X2DnChyC8DmH",
    "outputId": "94024136-79d7-4d2b-b771-c0e52a51f734"
   },
   "outputs": [],
   "source": [
    "#Function that will return the value count and frequency of each observation within a feature\n",
    "def value_cnt_norm_cal(df,feature):\n",
    "    ftr_value_cnt = df[feature].value_counts()\n",
    "    ftr_value_cnt_norm = df[feature].value_counts(normalize=True) * 100\n",
    "    ftr_value_cnt_concat = pd.concat([ftr_value_cnt, ftr_value_cnt_norm], axis=1)\n",
    "    ftr_value_cnt_concat.columns = ['Count', 'Frequency (%)']\n",
    "    return ftr_value_cnt_concat"
   ]
  },
  {
   "cell_type": "code",
   "execution_count": null,
   "id": "a25f8e70",
   "metadata": {},
   "outputs": [],
   "source": [
    "# function to create display general information about the feature\n",
    "def gen_info_feat(df,feature):\n",
    "    match feature:\n",
    "        case 'Age':\n",
    "            # change the feature to be express in positive numbers days\n",
    "            print('Description:\\n{}'.format((np.abs(df[feature])/365.25).describe()))\n",
    "            print('*'*50)\n",
    "            print('Object type:{}'.format(df[feature].dtype))\n",
    "        case 'Employment length':\n",
    "            # select only the rows where the rows are negative to ignore whose who have retired or unemployed\n",
    "            employment_len_no_ret = cc_train_copy['Employment length'][cc_train_copy['Employment length'] < 0]\n",
    "            employment_len_no_ret_yrs = np.abs(employment_len_no_ret)/365.25\n",
    "            print('Description:\\n{}'.format((employment_len_no_ret_yrs).describe()))\n",
    "            print('*'*50)\n",
    "            print('Object type:{}'.format(employment_len_no_ret.dtype))\n",
    "        case 'Account age':\n",
    "            # change the account age to a positive number of months\n",
    "            print('Description:\\n{}'.format((np.abs(df[feature])).describe()))\n",
    "            print('*'*50)\n",
    "            print('Object type:{}'.format(df[feature].dtype))\n",
    "        case _:\n",
    "            print('Description:\\n{}'.format(df[feature].describe()))\n",
    "            print('*'*50)\n",
    "            print('Object type:\\n{}'.format(df[feature].dtype))\n",
    "            print('*'*50)\n",
    "            value_cnt = value_cnt_norm_cal(df,feature)\n",
    "            print('Value count:\\n{}'.format(value_cnt))\n"
   ]
  },
  {
   "cell_type": "code",
   "execution_count": null,
   "id": "399707b3",
   "metadata": {},
   "outputs": [],
   "source": [
    "# function to create a pie chart plot\n",
    "def create_pie_plot(df,feature):\n",
    "    match feature:\n",
    "        case 'Dwelling' | 'Education level':\n",
    "            ratio_size = value_cnt_norm_cal(df, feature)\n",
    "            ratio_size_len = len(ratio_size.index)\n",
    "            ratio_list = []\n",
    "            for i in range(ratio_size_len):\n",
    "                ratio_list.append(ratio_size.iloc[i]['Frequency (%)'])\n",
    "            fig, ax = plt.subplots(figsize=(8,8))\n",
    "            # %1.2f%% display decimals in the pie chart with 2 decimal places\n",
    "            plt.pie(ratio_list, startangle=90, wedgeprops={'edgecolor' :'black'})\n",
    "            plt.title('Pie chart of {}'.format(feature))\n",
    "            plt.legend(loc='best',labels=ratio_size.index)\n",
    "            plt.axis('equal')\n",
    "            return plt.show()\n",
    "        case _:\n",
    "            ratio_size = value_cnt_norm_cal(df, feature)\n",
    "            ratio_size_len = len(ratio_size.index)\n",
    "            ratio_list = []\n",
    "            for i in range(ratio_size_len):\n",
    "                ratio_list.append(ratio_size.iloc[i]['Frequency (%)'])\n",
    "            fig, ax = plt.subplots(figsize=(8,8))\n",
    "            # %1.2f%% display decimals in the pie chart with 2 decimal places\n",
    "            plt.pie(ratio_list, labels=ratio_size.index, autopct='%1.2f%%', startangle=90, wedgeprops={'edgecolor' :'black'})\n",
    "            plt.title('Pie chart of {}'.format(feature))\n",
    "            plt.legend(loc='best')\n",
    "            plt.axis('equal')\n",
    "            return plt.show()"
   ]
  },
  {
   "cell_type": "code",
   "execution_count": null,
   "id": "4dff4698",
   "metadata": {},
   "outputs": [],
   "source": [
    "# function to create a bar chart plot\n",
    "def create_bar_plot(df,feature):\n",
    "    match feature:\n",
    "        case 'Marital status' | 'Dwelling' | 'Job title' | 'Employment status' | 'Education level':\n",
    "            fig, ax = plt.subplots(figsize=(6,10))\n",
    "            sns.barplot(x=value_cnt_norm_cal(df,feature).index,y=value_cnt_norm_cal(df,feature).values[:,0])\n",
    "            ax.set_xticklabels(labels=value_cnt_norm_cal(df,feature).index,rotation=45,ha='right')\n",
    "            plt.xlabel('{}'.format(feature))\n",
    "            plt.ylabel('Count')\n",
    "            plt.title('{} count'.format(feature))\n",
    "            return plt.show()\n",
    "        case _:\n",
    "            fig, ax = plt.subplots(figsize=(6,10))\n",
    "            sns.barplot(x=value_cnt_norm_cal(df,feature).index,y=value_cnt_norm_cal(df,feature).values[:,0])\n",
    "            plt.xlabel('{}'.format(feature))\n",
    "            plt.ylabel('Count')\n",
    "            plt.title('{} count'.format(feature))\n",
    "            return plt.show()"
   ]
  },
  {
   "cell_type": "code",
   "execution_count": null,
   "id": "01eb3f99",
   "metadata": {},
   "outputs": [],
   "source": [
    "# function to create a box plot\n",
    "def create_box_plot(df,feature):\n",
    "    match feature:\n",
    "        case 'Age':\n",
    "            fig, ax = plt.subplots(figsize=(2,8))\n",
    "            # change the feature to be express in positive numbers days\n",
    "            sns.boxplot(y=np.abs(df[feature])/365.25)\n",
    "            plt.title('{} distribution(Boxplot)'.format(feature))\n",
    "            return plt.show()\n",
    "        case 'Children count':\n",
    "            fig, ax = plt.subplots(figsize=(2,8))\n",
    "            sns.boxplot(y=df[feature])\n",
    "            plt.title('{} distribution(Boxplot)'.format(feature))\n",
    "            plt.yticks(np.arange(0,df[feature].max(),1))\n",
    "            return plt.show()\n",
    "        case 'Employment length':\n",
    "            fig, ax = plt.subplots(figsize=(2,8))\n",
    "            employment_len_no_ret = cc_train_copy['Employment length'][cc_train_copy['Employment length'] < 0]\n",
    "            # employement length in days is a negative number so we need to change it to positive and change it to days\n",
    "            employment_len_no_ret_yrs = np.abs(employment_len_no_ret)/365.25\n",
    "            sns.boxplot(y=employment_len_no_ret_yrs)\n",
    "            plt.title('{} distribution(Boxplot)'.format(feature))\n",
    "            plt.yticks(np.arange(0,employment_len_no_ret_yrs.max(),2))\n",
    "            return plt.show()\n",
    "        case 'Income':\n",
    "            fig, ax = plt.subplots(figsize=(2,8))\n",
    "            sns.boxplot(y=df[feature])\n",
    "            plt.title('{} distribution(Boxplot)'.format(feature))\n",
    "            # suppress scientific notation\n",
    "            ax.get_yaxis().set_major_formatter(\n",
    "                matplotlib.ticker.FuncFormatter(lambda x, p: format(int(x), ',')))\n",
    "            return plt.show()\n",
    "        case 'Account age':\n",
    "            fig, ax = plt.subplots(figsize=(2,8))\n",
    "            sns.boxplot(y=np.abs(df[feature]))\n",
    "            plt.title('{} distribution(Boxplot)'.format(feature))\n",
    "            return plt.show()\n",
    "        case _:\n",
    "            fig, ax = plt.subplots(figsize=(2,8))\n",
    "            sns.boxplot(y=df[feature])\n",
    "            plt.title('{} distribution(Boxplot)'.format(feature))\n",
    "            return plt.show()"
   ]
  },
  {
   "cell_type": "code",
   "execution_count": null,
   "id": "bb7c51a0",
   "metadata": {},
   "outputs": [],
   "source": [
    "# function to create a histogram plot\n",
    "def create_hist_plot(df,feature, the_bins=50):\n",
    "    match feature:\n",
    "        case 'Age':\n",
    "            fig, ax = plt.subplots(figsize=(18,10))\n",
    "            # change the feature to be express in positive numbers days\n",
    "            sns.histplot(np.abs(df[feature])/365.25,bins=the_bins,kde=True)\n",
    "            plt.title('{} distribution'.format(feature))\n",
    "            return plt.show()\n",
    "        case 'Income':\n",
    "            fig, ax = plt.subplots(figsize=(18,10))\n",
    "            sns.histplot(df[feature],bins=the_bins,kde=True)\n",
    "            # suppress scientific notation\n",
    "            ax.get_xaxis().set_major_formatter(\n",
    "                matplotlib.ticker.FuncFormatter(lambda x, p: format(int(x), ',')))\n",
    "            plt.title('{} distribution'.format(feature))\n",
    "            return plt.show()\n",
    "        case 'Employment length':\n",
    "            employment_len_no_ret = cc_train_copy['Employment length'][cc_train_copy['Employment length'] < 0]\n",
    "            # change the feature to be express in positive numbers days\n",
    "            employment_len_no_ret_yrs = np.abs(employment_len_no_ret)/365.25\n",
    "            fig, ax = plt.subplots(figsize=(18,10))\n",
    "            sns.histplot(employment_len_no_ret_yrs,bins=the_bins,kde=True)\n",
    "            plt.title('{} distribution'.format(feature))\n",
    "            return plt.show()\n",
    "        case 'Account age':\n",
    "            fig, ax = plt.subplots(figsize=(18,10))\n",
    "            sns.histplot(np.abs(df[feature]),bins=the_bins,kde=True)\n",
    "            plt.title('{} distribution'.format(feature))\n",
    "            return plt.show()\n",
    "        case _:\n",
    "            fig, ax = plt.subplots(figsize=(18,10))\n",
    "            sns.histplot(df[feature],bins=the_bins,kde=True)\n",
    "            plt.title('{} distribution'.format(feature))\n",
    "            return plt.show()"
   ]
  },
  {
   "cell_type": "code",
   "execution_count": null,
   "id": "b722a0e3",
   "metadata": {},
   "outputs": [],
   "source": [
    "# High risk vs low risk applicants compared on a box plot\n",
    "def low_high_risk_box_plot(df,feature):\n",
    "    match feature:\n",
    "        case 'Age':\n",
    "            print(np.abs(df.groupby('Is high risk')[feature].mean()/365.25))\n",
    "            fig, ax = plt.subplots(figsize=(5,8))\n",
    "            sns.boxplot(y=np.abs(df[feature])/365.25,x=df['Is high risk'])\n",
    "            plt.xticks(ticks=[0,1],labels=['no','yes'])\n",
    "            plt.title('High risk individuals grouped by age')\n",
    "            return plt.show()\n",
    "        case 'Income':\n",
    "            print(np.abs(df.groupby('Is high risk')[feature].mean()))\n",
    "            fig, ax = plt.subplots(figsize=(5,8))\n",
    "            sns.boxplot(y=np.abs(df[feature]),x=df['Is high risk'])\n",
    "            plt.xticks(ticks=[0,1],labels=['no','yes'])\n",
    "            # suppress scientific notation\n",
    "            ax.get_yaxis().set_major_formatter(\n",
    "                matplotlib.ticker.FuncFormatter(lambda x, p: format(int(x), ',')))\n",
    "            plt.title('High risk individuals grouped by {}'.format(feature))\n",
    "            return plt.show()\n",
    "        case 'Employment length':\n",
    "            #checking is an applicant is high risk or not (for those who have negative employment length aka the employed ones)\n",
    "            employment_no_ret = cc_train_copy['Employment length'][cc_train_copy['Employment length'] <0]\n",
    "            employment_no_ret_idx = employment_no_ret.index\n",
    "            employment_len_no_ret_yrs = np.abs(employment_no_ret)/365.25\n",
    "            employment_no_ret_df = cc_train_copy.iloc[employment_no_ret_idx][['Employment length','Is high risk']]\n",
    "            employment_no_ret_is_high_risk = employment_no_ret_df.groupby('Is high risk')['Employment length'].mean()\n",
    "            # compare the age of high risk individuals with the age of low risk individuals (those who are employed)\n",
    "            print(np.abs(employment_no_ret_is_high_risk)/365.25)\n",
    "            fig, ax = plt.subplots(figsize=(5,8))\n",
    "            sns.boxplot(y=employment_len_no_ret_yrs,x=df['Is high risk'])\n",
    "            plt.xticks(ticks=[0,1],labels=['no','yes'])\n",
    "            plt.title('High vs low risk individuals grouped by {}'.format(feature))\n",
    "            return plt.show()\n",
    "        case _:\n",
    "            print(np.abs(df.groupby('Is high risk')[feature].mean()))\n",
    "            fig, ax = plt.subplots(figsize=(5,8))\n",
    "            sns.boxplot(y=np.abs(df[feature]),x=df['Is high risk'])\n",
    "            plt.xticks(ticks=[0,1],labels=['no','yes'])\n",
    "            plt.title('High risk individuals grouped by {}'.format(feature))\n",
    "            return plt.show()"
   ]
  },
  {
   "cell_type": "code",
   "execution_count": null,
   "id": "7ce57246",
   "metadata": {},
   "outputs": [],
   "source": [
    "# High risk vs low risk applicants compared on a bar plot\n",
    "def low_high_risk_bar_plot(df,feature):\n",
    "    is_high_risk_grp = df.groupby(feature)['Is high risk'].sum()\n",
    "    is_high_risk_grp_srt = is_high_risk_grp.sort_values(ascending=False)\n",
    "    print(dict(is_high_risk_grp_srt))\n",
    "    fig, ax = plt.subplots(figsize=(6,10))\n",
    "    sns.barplot(x=is_high_risk_grp_srt.index,y=is_high_risk_grp_srt.values)\n",
    "    ax.set_xticklabels(labels=is_high_risk_grp_srt.index,rotation=45, ha='right')\n",
    "    plt.ylabel('Count')\n",
    "    plt.title('High risk applicants count grouped by {}'.format(feature))\n",
    "    return plt.show()"
   ]
  },
  {
   "cell_type": "code",
   "execution_count": null,
   "id": "2f872dc8",
   "metadata": {},
   "outputs": [],
   "source": [
    "cc_train_copy.shape"
   ]
  },
  {
   "cell_type": "markdown",
   "id": "f623fb99",
   "metadata": {},
   "source": [
    "## 2.3 Univariate analysis"
   ]
  },
  {
   "cell_type": "markdown",
   "id": "a192aab1",
   "metadata": {
    "id": "a192aab1"
   },
   "source": [
    "### 2.3.1. Gender"
   ]
  },
  {
   "cell_type": "code",
   "execution_count": null,
   "id": "579a96d1",
   "metadata": {
    "colab": {
     "base_uri": "https://localhost:8080/"
    },
    "id": "579a96d1",
    "outputId": "e6c0e80f-38f9-4309-b435-9b821a159000"
   },
   "outputs": [],
   "source": [
    "gen_info_feat(cc_train_copy,'Gender')"
   ]
  },
  {
   "cell_type": "code",
   "execution_count": null,
   "id": "e7e5a3d7",
   "metadata": {},
   "outputs": [],
   "source": [
    "create_bar_plot(cc_train_copy,'Gender')"
   ]
  },
  {
   "cell_type": "code",
   "execution_count": null,
   "id": "69982c46",
   "metadata": {},
   "outputs": [],
   "source": [
    "create_pie_plot(cc_train_copy,'Gender')"
   ]
  },
  {
   "cell_type": "markdown",
   "id": "9aec73e6",
   "metadata": {},
   "source": [
    "Interpretation:\n",
    "- We have more female applicants than male (67% vs 32%)"
   ]
  },
  {
   "cell_type": "markdown",
   "id": "8c23e10e",
   "metadata": {
    "id": "8c23e10e"
   },
   "source": [
    "### 2.3.2 Age"
   ]
  },
  {
   "cell_type": "code",
   "execution_count": null,
   "id": "96236415",
   "metadata": {},
   "outputs": [],
   "source": [
    "gen_info_feat(cc_train_copy,'Age')"
   ]
  },
  {
   "cell_type": "code",
   "execution_count": null,
   "id": "927742c9",
   "metadata": {},
   "outputs": [],
   "source": [
    "create_box_plot(cc_train_copy,'Age')"
   ]
  },
  {
   "cell_type": "code",
   "execution_count": null,
   "id": "330ea2d2",
   "metadata": {
    "id": "330ea2d2",
    "outputId": "6cdc63ea-0af2-4580-aa11-9928c5443818"
   },
   "outputs": [],
   "source": [
    "create_hist_plot(cc_train_copy,'Age')"
   ]
  },
  {
   "cell_type": "markdown",
   "id": "ae13d8ab",
   "metadata": {},
   "source": [
    "* bivariate analysis with target variable"
   ]
  },
  {
   "cell_type": "code",
   "execution_count": null,
   "id": "6a66e5ac",
   "metadata": {
    "colab": {
     "base_uri": "https://localhost:8080/",
     "height": 294
    },
    "id": "6a66e5ac",
    "outputId": "b20f3c79-fa32-40bc-f0b9-2e4e49c7e59b",
    "scrolled": true
   },
   "outputs": [],
   "source": [
    "low_high_risk_box_plot(cc_train_copy,'Age')"
   ]
  },
  {
   "cell_type": "markdown",
   "id": "2d88d7bb",
   "metadata": {},
   "source": [
    "Interpretation:\n",
    "- The youngest applicant is 21 years old while the oldest is 68 years old. with the average of 43.7 and median of 42.6(outliers insensitive)\n",
    "- Age feature is not normally distributed, it is slightly positively skew\n",
    "- There is no difference between the average age of high and low risk applicants"
   ]
  },
  {
   "cell_type": "markdown",
   "id": "cb462915",
   "metadata": {
    "id": "cb462915"
   },
   "source": [
    "### 2.3.3 Marital status"
   ]
  },
  {
   "cell_type": "code",
   "execution_count": null,
   "id": "db69f3c4",
   "metadata": {},
   "outputs": [],
   "source": [
    "gen_info_feat(cc_train_copy,'Marital status')"
   ]
  },
  {
   "cell_type": "code",
   "execution_count": null,
   "id": "f6732bdc",
   "metadata": {},
   "outputs": [],
   "source": [
    "create_pie_plot(cc_train_copy,'Marital status')"
   ]
  },
  {
   "cell_type": "code",
   "execution_count": null,
   "id": "6250932d",
   "metadata": {},
   "outputs": [],
   "source": [
    "create_bar_plot(cc_train_copy,'Marital status')"
   ]
  },
  {
   "cell_type": "code",
   "execution_count": null,
   "id": "39587a19",
   "metadata": {
    "colab": {
     "base_uri": "https://localhost:8080/"
    },
    "id": "39587a19",
    "outputId": "3fb1f38d-bb38-4adc-e619-e5c00691288a"
   },
   "outputs": [],
   "source": [
    "low_high_risk_bar_plot(cc_train_copy,'Marital status')"
   ]
  },
  {
   "cell_type": "markdown",
   "id": "5120518b",
   "metadata": {},
   "source": [
    "Interpretation:\n",
    "- Most applicants are married\n",
    "- Even though we have a higher number of applicants who are separated than those who are widow, it seems like widow applicants are high risk than those who are separated."
   ]
  },
  {
   "cell_type": "markdown",
   "id": "79a21789",
   "metadata": {
    "id": "79a21789"
   },
   "source": [
    "### 2.3.4 Family member count"
   ]
  },
  {
   "cell_type": "code",
   "execution_count": null,
   "id": "40a70321",
   "metadata": {},
   "outputs": [],
   "source": [
    "gen_info_feat(cc_train_copy,'Family member count')"
   ]
  },
  {
   "cell_type": "code",
   "execution_count": null,
   "id": "5826626d",
   "metadata": {},
   "outputs": [],
   "source": [
    "create_box_plot(cc_train_copy,'Family member count')"
   ]
  },
  {
   "cell_type": "code",
   "execution_count": null,
   "id": "3f4b1655",
   "metadata": {},
   "outputs": [],
   "source": [
    "create_bar_plot(cc_train_copy,'Family member count')"
   ]
  },
  {
   "cell_type": "markdown",
   "id": "b51bdbe7",
   "metadata": {},
   "source": [
    "Interpretation:\n",
    "-   Most applicants are two in their household, this is also confirmed with the fact that most don’t have a child (more on this in a bit)\n",
    "-   We also have 6 outliers, 2 of them are extreme with 20 and 15 members in their household\n"
   ]
  },
  {
   "cell_type": "markdown",
   "id": "8255ed45",
   "metadata": {
    "id": "8255ed45"
   },
   "source": [
    "### 2.3.5 Children count"
   ]
  },
  {
   "cell_type": "code",
   "execution_count": null,
   "id": "dccff033",
   "metadata": {},
   "outputs": [],
   "source": [
    "gen_info_feat(cc_train_copy,'Children count')"
   ]
  },
  {
   "cell_type": "code",
   "execution_count": null,
   "id": "fb82df7b",
   "metadata": {},
   "outputs": [],
   "source": [
    "create_box_plot(cc_train_copy,'Children count')"
   ]
  },
  {
   "cell_type": "code",
   "execution_count": null,
   "id": "4937a1e3",
   "metadata": {},
   "outputs": [],
   "source": [
    "create_bar_plot(cc_train_copy,'Children count')"
   ]
  },
  {
   "cell_type": "markdown",
   "id": "6b623327",
   "metadata": {},
   "source": [
    "Interpretation:\n",
    "-\tAs previously discussed most applicant don’t have a child\n",
    "-\tAlso here we have 6 outliers, probably the same from the family member count"
   ]
  },
  {
   "cell_type": "markdown",
   "id": "5f676d23",
   "metadata": {
    "id": "5f676d23"
   },
   "source": [
    "### 2.3.6 Dwelling type"
   ]
  },
  {
   "cell_type": "code",
   "execution_count": null,
   "id": "6f7e7cc0",
   "metadata": {},
   "outputs": [],
   "source": [
    "gen_info_feat(cc_train_copy,'Dwelling')"
   ]
  },
  {
   "cell_type": "code",
   "execution_count": null,
   "id": "57d09850",
   "metadata": {},
   "outputs": [],
   "source": [
    "create_pie_plot(cc_train_copy,'Dwelling')"
   ]
  },
  {
   "cell_type": "code",
   "execution_count": null,
   "id": "184bca5d",
   "metadata": {},
   "outputs": [],
   "source": [
    "create_bar_plot(cc_train_copy,'Dwelling')"
   ]
  },
  {
   "cell_type": "markdown",
   "id": "2fb0906e",
   "metadata": {},
   "source": [
    "Interpretation:\n",
    "- Almost every applicants live in house or apartment"
   ]
  },
  {
   "cell_type": "markdown",
   "id": "6d0022c0",
   "metadata": {
    "id": "6d0022c0"
   },
   "source": [
    "### 2.3.7 Income"
   ]
  },
  {
   "cell_type": "code",
   "execution_count": null,
   "id": "9969a488",
   "metadata": {},
   "outputs": [],
   "source": [
    "pd.set_option('display.float_format', lambda x: '%.2f' % x)\n",
    "gen_info_feat(cc_train_copy,'Income')"
   ]
  },
  {
   "cell_type": "code",
   "execution_count": null,
   "id": "eaf87d1c",
   "metadata": {},
   "outputs": [],
   "source": [
    "create_box_plot(cc_train_copy,'Income')"
   ]
  },
  {
   "cell_type": "code",
   "execution_count": null,
   "id": "68155550",
   "metadata": {},
   "outputs": [],
   "source": [
    "create_hist_plot(cc_train_copy,'Income')"
   ]
  },
  {
   "cell_type": "markdown",
   "id": "c9c65285",
   "metadata": {},
   "source": [
    "* bivariate analysis with target variable"
   ]
  },
  {
   "cell_type": "code",
   "execution_count": null,
   "id": "bc275de5",
   "metadata": {},
   "outputs": [],
   "source": [
    "low_high_risk_box_plot(cc_train_copy,'Income')"
   ]
  },
  {
   "cell_type": "markdown",
   "id": "c939523b",
   "metadata": {},
   "source": [
    "Interpretation:\n",
    "-\tThe average income is 186890 but this amount accounts for outliers. If we ignore the outlier most people make 157500\n",
    "-\tWe have 3 applicants who makes more than 1000000\n",
    "-\tThis feature is positively skewed\n",
    "-\tHigh risk and low risk applicants have roughly similar income"
   ]
  },
  {
   "cell_type": "markdown",
   "id": "9530b925",
   "metadata": {
    "id": "9530b925"
   },
   "source": [
    "### 2.3.8 Job title"
   ]
  },
  {
   "cell_type": "code",
   "execution_count": null,
   "id": "2fd92861",
   "metadata": {
    "colab": {
     "base_uri": "https://localhost:8080/"
    },
    "id": "2fd92861",
    "outputId": "cf041d66-374e-47c1-cca5-238e30295c21"
   },
   "outputs": [],
   "source": [
    "gen_info_feat(cc_train_copy,'Job title')"
   ]
  },
  {
   "cell_type": "code",
   "execution_count": null,
   "id": "a08dd90c",
   "metadata": {},
   "outputs": [],
   "source": [
    "job_title_nan_count = cc_train_copy['Job title'].isna().sum()\n",
    "job_title_nan_count"
   ]
  },
  {
   "cell_type": "code",
   "execution_count": null,
   "id": "0f1636d8",
   "metadata": {},
   "outputs": [],
   "source": [
    "rows_total_count = cc_train_copy.shape[0]"
   ]
  },
  {
   "cell_type": "code",
   "execution_count": null,
   "id": "1bc2e764",
   "metadata": {},
   "outputs": [],
   "source": [
    "print('The percentage of missing rows is {:.2f} %'.format(job_title_nan_count * 100 / rows_total_count))"
   ]
  },
  {
   "cell_type": "code",
   "execution_count": null,
   "id": "8796baeb",
   "metadata": {},
   "outputs": [],
   "source": [
    "create_bar_plot(cc_train_copy,'Job title')"
   ]
  },
  {
   "cell_type": "markdown",
   "id": "bcd6f49d",
   "metadata": {},
   "source": [
    "Interpretation:\n",
    "-\tThe most prolific Job title is laborers by far\n",
    "-\tWe have 30.95% if missing data"
   ]
  },
  {
   "cell_type": "markdown",
   "id": "88b67bdf",
   "metadata": {
    "id": "88b67bdf"
   },
   "source": [
    "### 2.3.9 Employment status"
   ]
  },
  {
   "cell_type": "code",
   "execution_count": null,
   "id": "c282165d",
   "metadata": {},
   "outputs": [],
   "source": [
    "gen_info_feat(cc_train_copy,'Employment status')"
   ]
  },
  {
   "cell_type": "code",
   "execution_count": null,
   "id": "15dce8ba",
   "metadata": {},
   "outputs": [],
   "source": [
    "create_bar_plot(cc_train_copy,'Employment status')"
   ]
  },
  {
   "cell_type": "code",
   "execution_count": null,
   "id": "6ff0c3d3",
   "metadata": {},
   "outputs": [],
   "source": [
    "create_pie_plot(cc_train_copy,'Employment status')"
   ]
  },
  {
   "cell_type": "markdown",
   "id": "592a8d49",
   "metadata": {},
   "source": [
    "Interpretation:\n",
    "- Most applicants are employed"
   ]
  },
  {
   "cell_type": "markdown",
   "id": "0bef4551",
   "metadata": {
    "id": "0bef4551"
   },
   "source": [
    "### 2.3.10 Education level"
   ]
  },
  {
   "cell_type": "code",
   "execution_count": null,
   "id": "e1602108",
   "metadata": {
    "colab": {
     "base_uri": "https://localhost:8080/"
    },
    "id": "e1602108",
    "outputId": "cc712302-2785-4db1-aab5-035303c9abcd"
   },
   "outputs": [],
   "source": [
    "gen_info_feat(cc_train_copy,'Education level')"
   ]
  },
  {
   "cell_type": "code",
   "execution_count": null,
   "id": "a6d0811c",
   "metadata": {},
   "outputs": [],
   "source": [
    "create_pie_plot(cc_train_copy,'Education level')"
   ]
  },
  {
   "cell_type": "code",
   "execution_count": null,
   "id": "48eae247",
   "metadata": {},
   "outputs": [],
   "source": [
    "create_bar_plot(cc_train_copy,'Education level')"
   ]
  },
  {
   "cell_type": "markdown",
   "id": "493d5406",
   "metadata": {},
   "source": [
    "Interpretation:\n",
    "-\tThe majority of applicants have completed their secondary degree, ¼ completed their higher education"
   ]
  },
  {
   "cell_type": "markdown",
   "id": "3641315f",
   "metadata": {
    "id": "3641315f"
   },
   "source": [
    "### 2.3.11 Employment length"
   ]
  },
  {
   "cell_type": "code",
   "execution_count": null,
   "id": "ecfd67f5",
   "metadata": {},
   "outputs": [],
   "source": [
    "gen_info_feat(cc_train_copy,'Employment length')"
   ]
  },
  {
   "cell_type": "code",
   "execution_count": null,
   "id": "24c635ad",
   "metadata": {},
   "outputs": [],
   "source": [
    "create_box_plot(cc_train_copy,'Employment length')"
   ]
  },
  {
   "cell_type": "code",
   "execution_count": null,
   "id": "b1d6be7e",
   "metadata": {},
   "outputs": [],
   "source": [
    "create_hist_plot(cc_train_copy,'Employment length')"
   ]
  },
  {
   "cell_type": "markdown",
   "id": "fc141c87",
   "metadata": {},
   "source": [
    "* bivariate analysis with target variable"
   ]
  },
  {
   "cell_type": "code",
   "execution_count": null,
   "id": "004ffa03",
   "metadata": {},
   "outputs": [],
   "source": [
    "# distribution of employment length for high vs low risk applicants\n",
    "# Here 0 means No and 1 means Yes\n",
    "low_high_risk_box_plot(cc_train_copy,'Employment length')"
   ]
  },
  {
   "cell_type": "markdown",
   "id": "14f89d14",
   "metadata": {},
   "source": [
    "Interpretation:\n",
    "-\tMost of applicant have been working for 5 to 7 years on average\n",
    "-\tWe have quite a number of outliers who have been working for more than 20 years+\n",
    "-\tThe employment length is positively skewed\n",
    "-\tThose who are high risk have a low employment length of 5 versus 7 years for the low risk\n"
   ]
  },
  {
   "cell_type": "markdown",
   "id": "ea91a4b6",
   "metadata": {
    "id": "ea91a4b6"
   },
   "source": [
    "### 2.3.12 Has a car"
   ]
  },
  {
   "cell_type": "code",
   "execution_count": null,
   "id": "32107b45",
   "metadata": {},
   "outputs": [],
   "source": [
    "gen_info_feat(cc_train_copy,'Has a car')"
   ]
  },
  {
   "cell_type": "code",
   "execution_count": null,
   "id": "01b5dde6",
   "metadata": {},
   "outputs": [],
   "source": [
    "create_bar_plot(cc_train_copy,'Has a car')"
   ]
  },
  {
   "cell_type": "code",
   "execution_count": null,
   "id": "16c5bb5f",
   "metadata": {
    "colab": {
     "base_uri": "https://localhost:8080/"
    },
    "id": "16c5bb5f",
    "outputId": "e75f6536-9194-4e72-cde1-eb90c7115395"
   },
   "outputs": [],
   "source": [
    "create_pie_plot(cc_train_copy,'Has a car')"
   ]
  },
  {
   "cell_type": "markdown",
   "id": "c4c2864a",
   "metadata": {},
   "source": [
    "Interpretation:\n",
    "- Most applicant don’t own a car"
   ]
  },
  {
   "cell_type": "markdown",
   "id": "a53e3e40",
   "metadata": {
    "id": "a53e3e40"
   },
   "source": [
    "### 2.3.13 Has a property"
   ]
  },
  {
   "cell_type": "code",
   "execution_count": null,
   "id": "75d6eea9",
   "metadata": {
    "colab": {
     "base_uri": "https://localhost:8080/"
    },
    "id": "75d6eea9",
    "outputId": "66b67fc4-cd04-48a9-bb49-29b40a01368d"
   },
   "outputs": [],
   "source": [
    "gen_info_feat(cc_train_copy,'Has a property')"
   ]
  },
  {
   "cell_type": "code",
   "execution_count": null,
   "id": "45e544e6",
   "metadata": {
    "colab": {
     "base_uri": "https://localhost:8080/"
    },
    "id": "45e544e6",
    "outputId": "762d7968-1c6c-466a-cd9f-08019d99e40b"
   },
   "outputs": [],
   "source": [
    "create_bar_plot(cc_train_copy,'Has a property')"
   ]
  },
  {
   "cell_type": "code",
   "execution_count": null,
   "id": "a27106ab",
   "metadata": {
    "colab": {
     "base_uri": "https://localhost:8080/"
    },
    "id": "a27106ab",
    "outputId": "9e962898-910e-43e2-cfa7-e8e3154646ef"
   },
   "outputs": [],
   "source": [
    "create_pie_plot(cc_train_copy,'Has a property')"
   ]
  },
  {
   "cell_type": "markdown",
   "id": "76b97d4f",
   "metadata": {},
   "source": [
    "Interpretation:\n",
    "- Most applicants own a property"
   ]
  },
  {
   "cell_type": "markdown",
   "id": "6fba5bd2",
   "metadata": {
    "id": "6fba5bd2"
   },
   "source": [
    "### 2.3.14 Has a work phone"
   ]
  },
  {
   "cell_type": "code",
   "execution_count": null,
   "id": "144512b4",
   "metadata": {
    "colab": {
     "base_uri": "https://localhost:8080/"
    },
    "id": "144512b4",
    "outputId": "1c66967c-ae61-4d8b-b166-4b390cec2d33"
   },
   "outputs": [],
   "source": [
    "gen_info_feat(cc_train_copy,'Has a work phone')"
   ]
  },
  {
   "cell_type": "code",
   "execution_count": null,
   "id": "4d5cc2a6",
   "metadata": {
    "colab": {
     "base_uri": "https://localhost:8080/"
    },
    "id": "4d5cc2a6",
    "outputId": "d47a2d7f-2de9-45ee-e758-3345b4930838"
   },
   "outputs": [],
   "source": [
    "create_bar_plot(cc_train_copy,'Has a work phone')"
   ]
  },
  {
   "cell_type": "code",
   "execution_count": null,
   "id": "8aa0e15e",
   "metadata": {
    "colab": {
     "base_uri": "https://localhost:8080/"
    },
    "id": "8aa0e15e",
    "outputId": "e2da754b-6bba-4b64-d3d9-349d91c85690"
   },
   "outputs": [],
   "source": [
    "create_pie_plot(cc_train_copy,'Has a work phone')"
   ]
  },
  {
   "cell_type": "markdown",
   "id": "e91bfd15",
   "metadata": {},
   "source": [
    "Interpretation:\n",
    "- More than ¾ of applicants don’t have a work phone\n",
    "\n",
    "Note: Here 0 is no and 1 is yes"
   ]
  },
  {
   "cell_type": "markdown",
   "id": "cb1645b2",
   "metadata": {
    "id": "cb1645b2"
   },
   "source": [
    "### 2.3.15 Has a mobile phone"
   ]
  },
  {
   "cell_type": "code",
   "execution_count": null,
   "id": "47945ebf",
   "metadata": {
    "colab": {
     "base_uri": "https://localhost:8080/"
    },
    "id": "47945ebf",
    "outputId": "8e82dbcc-b5cc-4c9a-c9fb-3c553e9eef94"
   },
   "outputs": [],
   "source": [
    "gen_info_feat(cc_train_copy,'Has a mobile phone')"
   ]
  },
  {
   "cell_type": "code",
   "execution_count": null,
   "id": "68fba1cc",
   "metadata": {},
   "outputs": [],
   "source": [
    "create_pie_plot(cc_train_copy,'Has a mobile phone')"
   ]
  },
  {
   "cell_type": "markdown",
   "id": "51ca16ca",
   "metadata": {},
   "source": [
    "Interpretation:\n",
    "- All the applicants without exception have a mobile phone\n",
    "\n",
    "Note: Here 0 is no and 1 is yes"
   ]
  },
  {
   "cell_type": "markdown",
   "id": "9f450bf4",
   "metadata": {
    "id": "9f450bf4"
   },
   "source": [
    "### 2.3.16 Has a phone"
   ]
  },
  {
   "cell_type": "code",
   "execution_count": null,
   "id": "e38bb77d",
   "metadata": {
    "colab": {
     "base_uri": "https://localhost:8080/"
    },
    "id": "e38bb77d",
    "outputId": "0b91a895-290f-4368-e3b2-ac8eac93bc14"
   },
   "outputs": [],
   "source": [
    "gen_info_feat(cc_train_copy,'Has a phone')"
   ]
  },
  {
   "cell_type": "code",
   "execution_count": null,
   "id": "68cfd34f",
   "metadata": {},
   "outputs": [],
   "source": [
    "create_bar_plot(cc_train_copy,'Has a phone')"
   ]
  },
  {
   "cell_type": "code",
   "execution_count": null,
   "id": "896d3508",
   "metadata": {},
   "outputs": [],
   "source": [
    "create_pie_plot(cc_train_copy,'Has a phone')"
   ]
  },
  {
   "cell_type": "markdown",
   "id": "8dc3f5e6",
   "metadata": {},
   "source": [
    "Interpretation:\n",
    "- Most applicants don’t have a phone (probably a home phone)\n",
    "\n",
    "Note: Here 0 is no and 1 is yes"
   ]
  },
  {
   "cell_type": "markdown",
   "id": "d1748834",
   "metadata": {
    "id": "d1748834",
    "scrolled": false
   },
   "source": [
    "### 2.3.17 Has an email"
   ]
  },
  {
   "cell_type": "code",
   "execution_count": null,
   "id": "d109a1de",
   "metadata": {
    "colab": {
     "base_uri": "https://localhost:8080/"
    },
    "id": "d109a1de",
    "outputId": "aec84aa2-8029-4fca-ba8b-0c9f22e3c7e0"
   },
   "outputs": [],
   "source": [
    "gen_info_feat(cc_train_copy,'Has an email')"
   ]
  },
  {
   "cell_type": "code",
   "execution_count": null,
   "id": "63cf64ee",
   "metadata": {
    "colab": {
     "base_uri": "https://localhost:8080/"
    },
    "id": "63cf64ee",
    "outputId": "d4a1112c-9414-4220-a69b-80023f8eb7c8"
   },
   "outputs": [],
   "source": [
    "create_bar_plot(cc_train_copy,'Has an email')"
   ]
  },
  {
   "cell_type": "code",
   "execution_count": null,
   "id": "c2798a6e",
   "metadata": {
    "colab": {
     "base_uri": "https://localhost:8080/"
    },
    "id": "c2798a6e",
    "outputId": "4e3928db-5b7e-444f-cf3e-79957a88c0df"
   },
   "outputs": [],
   "source": [
    "create_pie_plot(cc_train_copy,'Has an email')"
   ]
  },
  {
   "cell_type": "markdown",
   "id": "bbb10f9f",
   "metadata": {},
   "source": [
    "Interpretation:\n",
    "- More than 90% of applicants don’t have an email\n",
    "\n",
    "Note: Here 0 is no and 1 is yes"
   ]
  },
  {
   "cell_type": "markdown",
   "id": "f074ec44",
   "metadata": {},
   "source": [
    "### 2.3.18 Account age"
   ]
  },
  {
   "cell_type": "code",
   "execution_count": null,
   "id": "6a9bef04",
   "metadata": {},
   "outputs": [],
   "source": [
    "gen_info_feat(cc_train_copy,'Account age')"
   ]
  },
  {
   "cell_type": "code",
   "execution_count": null,
   "id": "9507c33d",
   "metadata": {},
   "outputs": [],
   "source": [
    "create_box_plot(cc_train_copy,'Account age')"
   ]
  },
  {
   "cell_type": "code",
   "execution_count": null,
   "id": "a3f30df9",
   "metadata": {},
   "outputs": [],
   "source": [
    "create_hist_plot(cc_train_copy,'Account age', the_bins=30)"
   ]
  },
  {
   "cell_type": "markdown",
   "id": "531f4fc4",
   "metadata": {},
   "source": [
    "* bivariate analysis with target variable"
   ]
  },
  {
   "cell_type": "code",
   "execution_count": null,
   "id": "9659a68a",
   "metadata": {},
   "outputs": [],
   "source": [
    "low_high_risk_box_plot(cc_train_copy,'Account age')"
   ]
  },
  {
   "cell_type": "markdown",
   "id": "6f05e0f3",
   "metadata": {},
   "source": [
    "Interpretation:\n",
    "-\tMost accounts are 26 months old\n",
    "-\tAccount age is not normally distributed, it is positively skewed\n",
    "-\tThe accounts that have been flagged as high risk are on average 34 months old vs 26 months old for old account"
   ]
  },
  {
   "cell_type": "markdown",
   "id": "e61a35e7",
   "metadata": {},
   "source": [
    "### 2.3.19 Is high risk (target variable)"
   ]
  },
  {
   "cell_type": "code",
   "execution_count": null,
   "id": "dade9e72",
   "metadata": {},
   "outputs": [],
   "source": [
    "gen_info_feat(cc_train_copy,'Is high risk')"
   ]
  },
  {
   "cell_type": "code",
   "execution_count": null,
   "id": "1791863c",
   "metadata": {},
   "outputs": [],
   "source": [
    "create_bar_plot(cc_train_copy,'Is high risk')"
   ]
  },
  {
   "cell_type": "code",
   "execution_count": null,
   "id": "03b556f1",
   "metadata": {},
   "outputs": [],
   "source": [
    "create_pie_plot(cc_train_copy,'Is high risk')"
   ]
  },
  {
   "cell_type": "markdown",
   "id": "99454898",
   "metadata": {},
   "source": [
    "Interpretation:\n",
    "- A vast majority of applicants are low risk applicants.\n",
    "- We have a very imbalance data.\n",
    "\n",
    "Note: Here 0 is no and 1 is yes\n"
   ]
  },
  {
   "cell_type": "markdown",
   "id": "f2fd66bf",
   "metadata": {},
   "source": [
    "## 2.4 Bivariate analysis"
   ]
  },
  {
   "cell_type": "markdown",
   "id": "ace7c08c",
   "metadata": {},
   "source": [
    "### 2.4.1 Numerical vs numerical features (Correlation & scatter plots)"
   ]
  },
  {
   "cell_type": "markdown",
   "id": "f9d11417",
   "metadata": {},
   "source": [
    "#### 2.4.1.1 Scatter plots"
   ]
  },
  {
   "cell_type": "code",
   "execution_count": null,
   "id": "d3f4a0bd",
   "metadata": {},
   "outputs": [],
   "source": [
    "sns.pairplot(cc_train_copy[cc_train_copy['Employment length'] < 0].drop(['ID','Has a mobile phone', 'Has a work phone', 'Has a phone', 'Has an email','Is high risk'],axis=1),corner=True)\n",
    "plt.show()"
   ]
  },
  {
   "cell_type": "markdown",
   "id": "e90aad90",
   "metadata": {},
   "source": [
    "Interpretation:\n",
    "- We can see a positive linear correlation between the family member and the children count. This makes sense, the more the children someone have, the larger the family member count. This is a multicollinearity problem. Meaning that the features are highly correlated. We will need to drop one of them.\n",
    "- Another interesting trend is the Employment length and age. This also makes sense, the longer the employee has been working, the older they are."
   ]
  },
  {
   "cell_type": "markdown",
   "id": "e3068e46",
   "metadata": {},
   "source": [
    "##### 2.4.1.1.1 Family member count vs children count (numerical vs numerical feature comparison)"
   ]
  },
  {
   "cell_type": "code",
   "execution_count": null,
   "id": "e7fa9b15",
   "metadata": {},
   "outputs": [],
   "source": [
    "sns.regplot(x='Children count',y='Family member count',data=cc_train_copy,line_kws={'color': 'red'})\n",
    "plt.show()"
   ]
  },
  {
   "cell_type": "markdown",
   "id": "21e05a31",
   "metadata": {},
   "source": [
    "Interpretation:\n",
    "- The more children a person has, the larger the family member count."
   ]
  },
  {
   "cell_type": "markdown",
   "id": "1b00d04b",
   "metadata": {},
   "source": [
    "##### 2.4.1.1.2 Account age vs age (numerical vs numerical feature comparison)"
   ]
  },
  {
   "cell_type": "code",
   "execution_count": null,
   "id": "15661d00",
   "metadata": {},
   "outputs": [],
   "source": [
    "y_age = np.abs(cc_train_copy['Age'])/365.25\n",
    "sns.jointplot(np.abs(cc_train_copy['Account age']),y_age, kind=\"hex\", height=12)\n",
    "plt.yticks(np.arange(20, y_age.max(), 5))\n",
    "plt.xticks(np.arange(0, 65, 5))\n",
    "plt.ylabel('Age')\n",
    "plt.show()"
   ]
  },
  {
   "cell_type": "markdown",
   "id": "7e65fa33",
   "metadata": {},
   "source": [
    "Interpretation:\n",
    "- Most of the applicants are between 20 and 45 years old and have an account that is less than 25 months old."
   ]
  },
  {
   "cell_type": "markdown",
   "id": "26b2b6a2",
   "metadata": {},
   "source": [
    "##### 2.4.1.1.3 Employment length vs age (numerical vs numerical feature comparison)"
   ]
  },
  {
   "cell_type": "code",
   "execution_count": null,
   "id": "6deb1fbf",
   "metadata": {},
   "outputs": [],
   "source": [
    "x_employ_length = np.abs(cc_train_copy[cc_train_copy['Employment length'] < 0]['Employment length'])/365.25\n",
    "fig, ax = plt.subplots(figsize=(12,8))\n",
    "sns.scatterplot(x_employ_length,y_age,alpha=.05)\n",
    "# change the frequency of the x-axis and y-axis labels\n",
    "plt.xticks(np.arange(0, x_employ_length.max(), 2.5))\n",
    "plt.yticks(np.arange(20, y_age.max(), 5))\n",
    "plt.show()"
   ]
  },
  {
   "cell_type": "markdown",
   "id": "ffb030c4",
   "metadata": {},
   "source": [
    "Interpretation:\n",
    "- This scatterplot shows that the age of the applicants is correlated with the length of the employment.\n",
    "The reason why it is shaped like a reversed triangle, it is because the age of the applicants increase with the length of the employment. You can't have an employment length > than the age."
   ]
  },
  {
   "cell_type": "markdown",
   "id": "ad314fa3",
   "metadata": {},
   "source": [
    "#### 2.4.1.2 Correlation analysis"
   ]
  },
  {
   "cell_type": "code",
   "execution_count": null,
   "id": "476473e6",
   "metadata": {},
   "outputs": [],
   "source": [
    "# change the datatype of target feature to int\n",
    "is_high_risk_int = cc_train_copy['Is high risk'].astype('int32')"
   ]
  },
  {
   "cell_type": "code",
   "execution_count": null,
   "id": "7957a8ff",
   "metadata": {},
   "outputs": [],
   "source": [
    "# correlation analysis with heatmap, after dropping the has a mobile phone with the target feature as int\n",
    "cc_train_copy_corr_no_mobile = pd.concat([cc_train_copy.drop(['Has a mobile phone','Is high risk'], axis=1),is_high_risk_int],axis=1).corr()\n",
    "# Get the lower triangle of the correlation matrix\n",
    "# Generate a mask for the upper triangle\n",
    "mask = np.zeros_like(cc_train_copy_corr_no_mobile, dtype='bool')\n",
    "mask[np.triu_indices_from(mask)] = True\n",
    "# Set up the matplotlib figure\n",
    "fig, ax = plt.subplots(figsize=(18,10))\n",
    "# seaborn heatmap\n",
    "sns.heatmap(cc_train_copy_corr_no_mobile, annot=True, cmap='flare',mask=mask, linewidths=.5)\n",
    "# plot the heatmap\n",
    "plt.show()"
   ]
  },
  {
   "cell_type": "markdown",
   "id": "e108a1bb",
   "metadata": {},
   "source": [
    "Interpretation:\n",
    "- There is no feature that is correlated with the target feature\n",
    "- Family member count is highly correlated with children count as previously discussed\n",
    "- Age has some positive correlation with the family member count and children count. The older a person is, the most likely he/she will have a larger family.\n",
    "- Another positive correlation is having a phone and having a work phone.\n",
    "- The final positive correlation is between the age and work phone. The younger someone is the less likely he/she will have a work phone.\n",
    "- We also have a negative correlation between the employment length and the age as previously seen."
   ]
  },
  {
   "cell_type": "markdown",
   "id": "3c41f139",
   "metadata": {},
   "source": [
    "### 2.4.2 Numerical vs categorical features (ANOVA)"
   ]
  },
  {
   "cell_type": "markdown",
   "id": "62383903",
   "metadata": {},
   "source": [
    "#### 2.4.2.1 Age vs the rest of categorical features"
   ]
  },
  {
   "cell_type": "code",
   "execution_count": null,
   "id": "23dff1ed",
   "metadata": {},
   "outputs": [],
   "source": [
    "fig, axes = plt.subplots(4,2,figsize=(15,20),dpi=180)\n",
    "fig.tight_layout(pad=5.0)\n",
    "cat_features = ['Gender', 'Has a car', 'Has a property', 'Employment status', 'Education level', 'Marital status', 'Dwelling', 'Job title']\n",
    "for cat_ft_count, ax in enumerate(axes):\n",
    "    for row_count in range(4):\n",
    "        for feat_count in range(2):\n",
    "            sns.boxplot(ax=axes[row_count,feat_count],x=cc_train_copy[cat_features[cat_ft_count]],y=np.abs(cc_train_copy['Age'])/365.25)\n",
    "            axes[row_count,feat_count].set_title(cat_features[cat_ft_count] + \" vs age\")\n",
    "            plt.sca(axes[row_count,feat_count])\n",
    "            plt.xticks(rotation=45,ha='right')\n",
    "            plt.ylabel('Age')\n",
    "            cat_ft_count += 1\n",
    "    break"
   ]
  },
  {
   "cell_type": "markdown",
   "id": "788552a6",
   "metadata": {},
   "source": [
    "Interpretation:\n",
    "- Female applicants are older than their male counterpart.\n",
    "- Those who don't own a car tend to be older.\n",
    "- Those who own a property tend to be older than those who don't.\n",
    "- Of course, the pensioners are older that those who are working (We also see that some have pensioned at a young age, those are outliers).\n",
    "- It is also interesting to see that those who hold an academic degree are younger in general than the other groups.\n",
    "- Obviously, the widows tend to be much older. We also see some outliers in their 30's as well.\n",
    "- With no surprise, those who live with parent tend to be younger. We also see some outlier as well.\n",
    "- Lastly, who work as cleaning staff tend to be older while those who work in IT tend to be younger."
   ]
  },
  {
   "cell_type": "markdown",
   "id": "d11106f5",
   "metadata": {},
   "source": [
    "#### 2.4.2.2 Income vs the rest of categorical features"
   ]
  },
  {
   "cell_type": "code",
   "execution_count": null,
   "id": "c99426f7",
   "metadata": {},
   "outputs": [],
   "source": [
    "fig, axes = plt.subplots(4,2,figsize=(15,20),dpi=180)\n",
    "fig.tight_layout(pad=5.0)\n",
    "\n",
    "for cat_ft_count, ax in enumerate(axes):\n",
    "    for row_count in range(4):\n",
    "        for feat_count in range(2):\n",
    "            sns.boxplot(ax=axes[row_count,feat_count],x=cc_train_copy[cat_features[cat_ft_count]],y=np.abs(cc_train_copy[cc_train_copy['Employment length'] < 0]['Employment length'])/365.25)\n",
    "            axes[row_count,feat_count].set_title(cat_features[cat_ft_count] + \" vs employment length\")\n",
    "            plt.sca(axes[row_count,feat_count])\n",
    "            plt.ylabel('Employment length')\n",
    "            plt.xticks(rotation=45,ha='right')\n",
    "            cat_ft_count += 1\n",
    "    break"
   ]
  },
  {
   "cell_type": "markdown",
   "id": "6e66fad3",
   "metadata": {},
   "source": [
    "Interpretation:\n",
    "- State employed applicant tend to have been employed longer than the rest.\n",
    "- Those who work in the medical field, have been employed longer than the rest."
   ]
  },
  {
   "cell_type": "markdown",
   "id": "f6c9bf5d",
   "metadata": {},
   "source": [
    "### 2.4.3 Categorical vs categorical features (Chi-square test)"
   ]
  },
  {
   "cell_type": "markdown",
   "id": "abeb4fc2",
   "metadata": {},
   "source": [
    "Null hypothesis: the feature's categories have no effect on the target variable.\n",
    "Alternate hypothesis: one(or more) of the feature categories has a significant effect on the target variable."
   ]
  },
  {
   "cell_type": "code",
   "execution_count": null,
   "id": "e44db708",
   "metadata": {},
   "outputs": [],
   "source": [
    "def chi_func(feature):\n",
    "    # selection row with high risk\n",
    "    high_risk_ft = cc_train_copy[cc_train_copy['Is high risk'] == 1][feature]\n",
    "    high_risk_ft_ct = pd.crosstab(index=high_risk_ft, columns=['Count']).rename_axis(None, axis=1)\n",
    "    # drop the index feature name\n",
    "    high_risk_ft_ct.index.name = None\n",
    "    # observe values\n",
    "    obs = high_risk_ft_ct\n",
    "    print('Observed values:\\n')\n",
    "    print(obs)\n",
    "    print('\\n')\n",
    "    # expected values\n",
    "    print(obs.index)\n",
    "    exp = pd.DataFrame([obs['Count'].sum()/len(obs)] * len(obs.index),columns=['Count'], index=obs.index)\n",
    "    print('Expected values:\\n')\n",
    "    print(exp)\n",
    "    print('\\n')\n",
    "    # chi-square test\n",
    "    chi_squared_stat = (((obs-exp)**2)/exp).sum()\n",
    "    print('Chi-square:\\n')\n",
    "    print(chi_squared_stat[0])\n",
    "    print('\\n')\n",
    "    #critical value\n",
    "    crit = stats.chi2.ppf(q = 0.95, df = len(obs) - 1)\n",
    "    print('Critical value:\\n')\n",
    "    print(crit)\n",
    "    print('\\n')\n",
    "    # p-value\n",
    "    p_value = 1 - stats.chi2.cdf(x = chi_squared_stat, df = len(obs) - 1)\n",
    "    print('P-value:\\n')\n",
    "    print(p_value)\n",
    "    print('\\n')\n",
    "    if chi_squared_stat[0] >= crit:\n",
    "        print('Reject the null hypothesis')\n",
    "    elif chi_squared_stat[0] <= crit:\n",
    "        print('Fail to reject the null hypothesis')"
   ]
  },
  {
   "cell_type": "code",
   "execution_count": null,
   "id": "0a68ee1a",
   "metadata": {},
   "outputs": [],
   "source": [
    "cat_ft = ['Gender', 'Has a car', 'Has a property', 'Employment status', 'Education level', 'Marital status', 'Dwelling', 'Job title']\n",
    "for ft in cat_ft:\n",
    "    print('\\n\\n**** {} ****\\n'.format(ft))\n",
    "    chi_func(ft)"
   ]
  },
  {
   "cell_type": "markdown",
   "id": "a0186619",
   "metadata": {},
   "source": [
    "## 2.5 Business findings from the EDA"
   ]
  },
  {
   "cell_type": "markdown",
   "id": "fdf8d334",
   "metadata": {},
   "source": [
    "- ***Typical profile of an applicant is: a Female in her early 40’s, married with a partner and no child. She has been employed for 5 years with a salary of 157500. She has completed her secondary education. She does not own a car but owns a property (a house/ apartment). Her account is 26 months old.***\n",
    "- ***Age and income do not have any effects on the target variable***\n",
    "- ***Those who are flagged as bad client, tend to have a shorter employment length and older accounts. They also constitute less than 2% of total applicants.***\n",
    "- ***Most applicants are 20 to 45 years old and have an account that is 25 months old or less.***"
   ]
  },
  {
   "cell_type": "markdown",
   "id": "0d6a8a68",
   "metadata": {},
   "source": [
    "# 3. Prepare the data"
   ]
  },
  {
   "cell_type": "markdown",
   "id": "fc69fb6a",
   "metadata": {
    "id": "fc69fb6a"
   },
   "source": [
    "## 3.1 Transform to be done on each feature"
   ]
  },
  {
   "cell_type": "markdown",
   "id": "f5c0a1d3",
   "metadata": {},
   "source": [
    "ID:\n",
    "* Drop the feature\n",
    "\n",
    "Gender:\n",
    "* One hot encoding\n",
    "\n",
    "Age:\n",
    "* Min-max scaling\n",
    "* Fix skewness\n",
    "* Abs value and div 365.25\n",
    "\n",
    "Marital status:\n",
    "* One hot encoding\n",
    "\n",
    "Family member count\n",
    "* Fix outliers\n",
    "\n",
    "Children count\n",
    "* Fix outliers\n",
    "* Drop feature\n",
    "\n",
    "Dwelling type\n",
    "* One hot encoding\n",
    "\n",
    "Income\n",
    "* Remove outliers\n",
    "* Fix skewness\n",
    "* Min-max scaling\n",
    "\n",
    "Job title\n",
    "* One hot encoding\n",
    "* Impute missing values\n",
    "\n",
    "Employment status:\n",
    "* One hot encoding\n",
    "\n",
    "Education level:\n",
    "* Ordinal encoding\n",
    "\n",
    "Employment length:\n",
    "* Remove outliers\n",
    "* Min-max scaling\n",
    "* Abs value and div 365.25\n",
    "* change days of employments of retirees to 0\n",
    "\n",
    "Has a car:\n",
    "* Change it numerical\n",
    "* One-hot encoding\n",
    "\n",
    "Has a property:\n",
    "* Change it numerical\n",
    "* One-hot encoding\n",
    "\n",
    "Has a mobile phone:\n",
    "* Drop feature\n",
    "\n",
    "Has a work phone:\n",
    "* One-hot encoding\n",
    "\n",
    "Has a phone:\n",
    "* One-hot encoding\n",
    "\n",
    "Has an email:\n",
    "* One-hot encoding\n",
    "\n",
    "Account age:\n",
    "* Drop feature\n",
    "\n",
    "Is high risk(Target):\n",
    "* Change the data type to numerical\n",
    "* balance the data with SMOTE"
   ]
  },
  {
   "cell_type": "markdown",
   "id": "1820631d",
   "metadata": {
    "id": "1820631d"
   },
   "source": [
    "## 3.2 Data Cleaning"
   ]
  },
  {
   "cell_type": "markdown",
   "id": "fa853213",
   "metadata": {
    "id": "fa853213"
   },
   "source": [
    "### 3.2.1 Outliers handling"
   ]
  },
  {
   "cell_type": "code",
   "execution_count": null,
   "id": "0e2d1e14",
   "metadata": {
    "id": "0e2d1e14"
   },
   "outputs": [],
   "source": [
    "class OutlierRemover(BaseEstimator, TransformerMixin):\n",
    "    def __init__(self,feat_with_outliers = ['Family member count','Income', 'Employment length']):\n",
    "        self.feat_with_outliers = feat_with_outliers\n",
    "    def fit(self,df):\n",
    "        return self\n",
    "    def transform(self,df):\n",
    "        if (set(self.feat_with_outliers).issubset(df.columns)):\n",
    "            # 25% quantile\n",
    "            Q1 = df[self.feat_with_outliers].quantile(.25)\n",
    "            # 75% quantile\n",
    "            Q3 = df[self.feat_with_outliers].quantile(.75)\n",
    "            IQR = Q3 - Q1\n",
    "            # keep the data within 3 IQR\n",
    "            df = df[~((df[self.feat_with_outliers] < (Q1 - 3 * IQR)) |(df[self.feat_with_outliers] > (Q3 + 3 * IQR))).any(axis=1)]\n",
    "            return df\n",
    "        else:\n",
    "            print(\"One or more features are not in the dataframe\")\n",
    "            return df"
   ]
  },
  {
   "cell_type": "markdown",
   "id": "c23637fe",
   "metadata": {},
   "source": [
    "## 3.3 Feature selection"
   ]
  },
  {
   "cell_type": "markdown",
   "id": "c87653fe",
   "metadata": {},
   "source": [
    "### 3.3.1 Drop features"
   ]
  },
  {
   "cell_type": "code",
   "execution_count": null,
   "id": "41a44c31",
   "metadata": {},
   "outputs": [],
   "source": [
    "class DropFeatures(BaseEstimator,TransformerMixin):\n",
    "    def __init__(self,feature_to_drop = ['ID','Has a mobile phone','Children count','Job title','Account age']):\n",
    "        self.feature_to_drop = feature_to_drop\n",
    "    def fit(self,df):\n",
    "        return self\n",
    "    def transform(self,df):\n",
    "        if (set(self.feature_to_drop).issubset(df.columns)):\n",
    "            df.drop(self.feature_to_drop,axis=1,inplace=True)\n",
    "            return df\n",
    "        else:\n",
    "            print(\"One or more features are not in the dataframe\")\n",
    "            return df"
   ]
  },
  {
   "cell_type": "markdown",
   "id": "12aa452d",
   "metadata": {},
   "source": [
    "Why are we droping these features?\n",
    "- ID: ID is not useful for prediction, it helped us when we were merging the two datasets but after that, there is no need to keep it.\n",
    "- Has a mobile phone: Since everyone has a mobile phone, this feature does not inform us about anything.\n",
    "- Children count: is highly correlated with Family member count, and to avoid multicollinearity, we drop it.\n",
    "- Job title: Has some missing values and the count of each category is not very different to justify the use of mode. So we drop it.\n",
    "- Account age: Because account was used to create the target, reusing will make our model to overfit. Plus, this information is unknown while applying for a credit card."
   ]
  },
  {
   "cell_type": "markdown",
   "id": "d622dec1",
   "metadata": {},
   "source": [
    "## 3.4 Feature engineering"
   ]
  },
  {
   "cell_type": "markdown",
   "id": "b15e7275",
   "metadata": {},
   "source": []
  },
  {
   "cell_type": "markdown",
   "id": "11fc0164",
   "metadata": {},
   "source": [
    "### 3.4.1 Time conversion\n"
   ]
  },
  {
   "cell_type": "code",
   "execution_count": null,
   "id": "c63649c9",
   "metadata": {},
   "outputs": [],
   "source": [
    "class TimeConversionHandler(BaseEstimator, TransformerMixin):\n",
    "    def __init__(self, feat_with_days = ['Employment length', 'Age']):\n",
    "        self.feat_with_days = feat_with_days\n",
    "    def fit(self, X, y=None):\n",
    "        return self\n",
    "    def transform(self, X, y=None):\n",
    "        if (set(self.feat_with_days).issubset(X.columns)):\n",
    "            # convert days to absolute value\n",
    "            X[['Employment length','Age']] = np.abs(X[['Employment length','Age']])\n",
    "            return X\n",
    "        else:\n",
    "            print(\"One or more features are not in the dataframe\")\n",
    "            return X"
   ]
  },
  {
   "cell_type": "markdown",
   "id": "7769f779",
   "metadata": {},
   "source": [
    "### 3.4.2 Retiree handling (in the employment length feature)"
   ]
  },
  {
   "cell_type": "code",
   "execution_count": null,
   "id": "9bebf34c",
   "metadata": {},
   "outputs": [],
   "source": [
    "class RetireeHandler(BaseEstimator, TransformerMixin):\n",
    "    def __init__(self):\n",
    "        pass\n",
    "    def fit(self, df):\n",
    "        return self\n",
    "    def transform(self, df):\n",
    "        if 'Employment length' in df.columns:\n",
    "            # select rows with employment length is 365243 which corresponds to retirees\n",
    "            df_ret_idx = df['Employment length'][df['Employment length'] == 365243].index\n",
    "            # change 365243 to 0\n",
    "            df.loc[df_ret_idx,'Employment length'] = 0\n",
    "            return df\n",
    "        else:\n",
    "            print(\"Employment length is not in the dataframe\")\n",
    "            return df"
   ]
  },
  {
   "cell_type": "markdown",
   "id": "81fca0ac",
   "metadata": {},
   "source": [
    "### 3.4.3 Skewness handling"
   ]
  },
  {
   "cell_type": "code",
   "execution_count": null,
   "id": "45c7de64",
   "metadata": {},
   "outputs": [],
   "source": [
    "class SkewnessHandler(BaseEstimator, TransformerMixin):\n",
    "    def __init__(self,feat_with_skewness=['Income','Age']):\n",
    "        self.feat_with_skewness = feat_with_skewness\n",
    "    def fit(self,df):\n",
    "        return self\n",
    "    def transform(self,df):\n",
    "        if (set(self.feat_with_skewness).issubset(df.columns)):\n",
    "            # Handle skewness with cubic root transformation\n",
    "            df[self.feat_with_skewness] = np.cbrt(df[self.feat_with_skewness])\n",
    "            return df\n",
    "        else:\n",
    "            print(\"One or more features are not in the dataframe\")\n",
    "            return df"
   ]
  },
  {
   "cell_type": "markdown",
   "id": "9a3287ed",
   "metadata": {},
   "source": [
    "### 3.4.4 Binning"
   ]
  },
  {
   "cell_type": "code",
   "execution_count": null,
   "id": "8cb016a0",
   "metadata": {},
   "outputs": [],
   "source": [
    "class BinningNumToYN(BaseEstimator, TransformerMixin):\n",
    "    def __init__(self,feat_with_num_enc=['Has a work phone','Has a phone','Has an email']):\n",
    "        self.feat_with_num_enc = feat_with_num_enc\n",
    "    def fit(self,df):\n",
    "        return self\n",
    "    def transform(self,df):\n",
    "        if (set(self.feat_with_num_enc).issubset(df.columns)):\n",
    "            # Change 0 to N and 1 to Y for all the features in feat_with_num_enc\n",
    "            for ft in self.feat_with_num_enc:\n",
    "                df[ft] = df[ft].map({1:'Y',0:'N'})\n",
    "            return df\n",
    "        else:\n",
    "            print(\"One or more features are not in the dataframe\")\n",
    "            return df"
   ]
  },
  {
   "cell_type": "markdown",
   "id": "727d64b6",
   "metadata": {},
   "source": [
    "### 3.4.5 One hot encoding (with feature's name)"
   ]
  },
  {
   "cell_type": "code",
   "execution_count": null,
   "id": "9dffc224",
   "metadata": {},
   "outputs": [],
   "source": [
    "class OneHotWithFeatNames(BaseEstimator,TransformerMixin):\n",
    "    def __init__(self,one_hot_enc_ft = ['Gender', 'Marital status', 'Dwelling', 'Employment status', 'Has a car', 'Has a property', 'Has a work phone', 'Has a phone', 'Has an email']):\n",
    "        self.one_hot_enc_ft = one_hot_enc_ft\n",
    "    def fit(self,df):\n",
    "        return self\n",
    "    def transform(self,df):\n",
    "        if (set(self.one_hot_enc_ft).issubset(df.columns)):\n",
    "            # function to one hot encode the features in one_hot_enc_ft\n",
    "            def one_hot_enc(df,one_hot_enc_ft):\n",
    "                one_hot_enc = OneHotEncoder()\n",
    "                one_hot_enc.fit(df[one_hot_enc_ft])\n",
    "                # get the result of the one hot encoding columns names\n",
    "                feat_names_one_hot_enc = one_hot_enc.get_feature_names_out(one_hot_enc_ft)\n",
    "                # change the array of the one hot encoding to a dataframe with the column names\n",
    "                df = pd.DataFrame(one_hot_enc.transform(df[self.one_hot_enc_ft]).toarray(),columns=feat_names_one_hot_enc,index=df.index)\n",
    "                return df\n",
    "            # function to concatenat the one hot encoded features with the rest of features that were not encoded\n",
    "            def concat_with_rest(df,one_hot_enc_df,one_hot_enc_ft):\n",
    "                # get the rest of the features\n",
    "                rest_of_features = [ft for ft in df.columns if ft not in one_hot_enc_ft]\n",
    "                # concatenate the rest of the features with the one hot encoded features\n",
    "                df_concat = pd.concat([one_hot_enc_df, df[rest_of_features]],axis=1)\n",
    "                return df_concat\n",
    "            # one hot encoded dataframe\n",
    "            one_hot_enc_df = one_hot_enc(df,self.one_hot_enc_ft)\n",
    "            # returns the concatenated dataframe\n",
    "            full_df_one_hot_enc = concat_with_rest(df,one_hot_enc_df,self.one_hot_enc_ft)\n",
    "            return full_df_one_hot_enc\n",
    "        else:\n",
    "            print(\"One or more features are not in the dataframe\")\n",
    "            return df"
   ]
  },
  {
   "cell_type": "markdown",
   "id": "fda034a4",
   "metadata": {},
   "source": [
    "### 3.4.6 Ordinal encoding (with feature's names)"
   ]
  },
  {
   "cell_type": "code",
   "execution_count": null,
   "id": "022933f1",
   "metadata": {},
   "outputs": [],
   "source": [
    "class OrdinalFeatNames(BaseEstimator,TransformerMixin):\n",
    "    def __init__(self,ordinal_enc_ft = ['Education level']):\n",
    "        self.ordinal_enc_ft = ordinal_enc_ft\n",
    "    def fit(self,df):\n",
    "        return self\n",
    "    def transform(self,df):\n",
    "        if 'Education level' in df.columns:\n",
    "            ordinal_enc = OrdinalEncoder()\n",
    "            df[self.ordinal_enc_ft] = ordinal_enc.fit_transform(df[self.ordinal_enc_ft])\n",
    "            return df\n",
    "        else:\n",
    "            print(\"Education level is not in the dataframe\")\n",
    "            return df"
   ]
  },
  {
   "cell_type": "markdown",
   "id": "78609df2",
   "metadata": {},
   "source": [
    "### 3.4.7 Min-Max scaling (with feature's names)"
   ]
  },
  {
   "cell_type": "code",
   "execution_count": null,
   "id": "f789e921",
   "metadata": {},
   "outputs": [],
   "source": [
    "class MinMaxWithFeatNames(BaseEstimator,TransformerMixin):\n",
    "    def __init__(self,min_max_scaler_ft = ['Age', 'Income', 'Employment length']):\n",
    "        self.min_max_scaler_ft = min_max_scaler_ft\n",
    "    def fit(self,df):\n",
    "        return self\n",
    "    def transform(self,df):\n",
    "        if (set(self.min_max_scaler_ft).issubset(df.columns)):\n",
    "            min_max_enc = MinMaxScaler()\n",
    "            df[self.min_max_scaler_ft] = min_max_enc.fit_transform(df[self.min_max_scaler_ft])\n",
    "            return df\n",
    "        else:\n",
    "            print(\"One or more features are not in the dataframe\")\n",
    "            return df"
   ]
  },
  {
   "cell_type": "markdown",
   "id": "eaf159ac",
   "metadata": {},
   "source": [
    "### 3.4.8 Change the data types of the target feature"
   ]
  },
  {
   "cell_type": "code",
   "execution_count": null,
   "id": "176d085c",
   "metadata": {},
   "outputs": [],
   "source": [
    "class ChangeToNumTarget(BaseEstimator,TransformerMixin):\n",
    "    def __init__(self):\n",
    "        pass\n",
    "    def fit(self,df):\n",
    "        return self\n",
    "    def transform(self,df):\n",
    "        if 'Is high risk' in df.columns:\n",
    "            df['Is high risk'] = pd.to_numeric(df['Is high risk'])\n",
    "            return df\n",
    "        else:\n",
    "            print(\"Is high risk is not in the dataframe\")\n",
    "            return df"
   ]
  },
  {
   "cell_type": "markdown",
   "id": "f410b685",
   "metadata": {},
   "source": [
    "### 3.4.9 Oversampling"
   ]
  },
  {
   "cell_type": "code",
   "execution_count": null,
   "id": "73016dc8",
   "metadata": {},
   "outputs": [],
   "source": [
    "class Oversample(BaseEstimator,TransformerMixin):\n",
    "    def __init__(self):\n",
    "        pass\n",
    "    def fit(self,df):\n",
    "        return self\n",
    "    def transform(self,df):\n",
    "        if 'Is high risk' in df.columns:\n",
    "            # smote function to oversample the minority class to fix the imbalance data\n",
    "            oversample = SMOTE(sampling_strategy='minority')\n",
    "            X_bal, y_bal = oversample.fit_resample(df.loc[:, df.columns != 'Is high risk'],df['Is high risk'])\n",
    "            df_bal = pd.concat([pd.DataFrame(X_bal),pd.DataFrame(y_bal)],axis=1)\n",
    "            return df_bal\n",
    "        else:\n",
    "            print(\"Is high risk is not in the dataframe\")\n",
    "            return df"
   ]
  },
  {
   "cell_type": "markdown",
   "id": "a80d87e3",
   "metadata": {},
   "source": [
    "We are oversampling with SMOTE because the minority class (Is high risk = 1) is very rare in the data."
   ]
  },
  {
   "cell_type": "markdown",
   "id": "8da7ac3e",
   "metadata": {},
   "source": [
    "## 3.5 Data Preprocessing"
   ]
  },
  {
   "cell_type": "code",
   "execution_count": null,
   "id": "0d1b98d1",
   "metadata": {},
   "outputs": [],
   "source": [
    "def full_pipeline(df):\n",
    "    # Create the pipeline that will call all the class from OutlierRemoval to OversampleSMOTE in one go\n",
    "    pipeline = Pipeline([\n",
    "        ('outlier_remover', OutlierRemover()),\n",
    "        ('feature_dropper', DropFeatures()),\n",
    "        ('time_conversion_handler', TimeConversionHandler()),\n",
    "        ('retiree_handler', RetireeHandler()),\n",
    "        ('skewness_handler', SkewnessHandler()),\n",
    "        ('binning_num_to_yn', BinningNumToYN()),\n",
    "        ('one_hot_with_feat_names', OneHotWithFeatNames()),\n",
    "        ('ordinal_feat_names', OrdinalFeatNames()),\n",
    "        ('min_max_with_feat_names', MinMaxWithFeatNames()),\n",
    "        ('change_to_num_target', ChangeToNumTarget()),\n",
    "        ('oversample', Oversample())\n",
    "    ])\n",
    "    df_pipe_prep = pipeline.fit_transform(df)\n",
    "    return df_pipe_prep"
   ]
  },
  {
   "cell_type": "code",
   "execution_count": null,
   "id": "cf2442b9",
   "metadata": {},
   "outputs": [],
   "source": [
    "pd.options.mode.chained_assignment = None  # Hide the copy warning\n",
    "cc_train_prep = full_pipeline(cc_train_copy)"
   ]
  },
  {
   "cell_type": "code",
   "execution_count": null,
   "id": "dea56e92",
   "metadata": {},
   "outputs": [],
   "source": [
    "cc_train_prep.shape"
   ]
  },
  {
   "cell_type": "code",
   "execution_count": null,
   "id": "56648d2b",
   "metadata": {},
   "outputs": [],
   "source": [
    "pd.set_option('display.max_columns', None)\n",
    "cc_train_prep.head()"
   ]
  },
  {
   "cell_type": "code",
   "execution_count": null,
   "id": "e6f112a0",
   "metadata": {},
   "outputs": [],
   "source": [
    "# split the train data into X and y (target)\n",
    "X_cc_train_prep, y_cc_train_prep = cc_train_prep.loc[:, cc_train_prep.columns != 'Is high risk'], cc_train_prep['Is high risk'].astype('int64')"
   ]
  },
  {
   "cell_type": "markdown",
   "id": "c6276506",
   "metadata": {},
   "source": [
    "# 4. Short-list promising models"
   ]
  },
  {
   "cell_type": "markdown",
   "id": "36b42f27",
   "metadata": {},
   "source": [
    "## 4.1 Models training"
   ]
  },
  {
   "cell_type": "code",
   "execution_count": null,
   "id": "8e12c02b",
   "metadata": {},
   "outputs": [],
   "source": [
    "classifiers = {\n",
    "    'sgd':SGDClassifier(random_state=42,loss='perceptron'),\n",
    "    'logistic_regression':LogisticRegression(random_state=42,max_iter=1000),\n",
    "    'support_vector_machine':SVC(random_state=42,probability=True),\n",
    "    'decision_tree':DecisionTreeClassifier(random_state=42),\n",
    "    'random_forest':RandomForestClassifier(random_state=42),\n",
    "    'gaussian_naive_bayes':GaussianNB(),\n",
    "    'k_nearest_neighbors':KNeighborsClassifier(),\n",
    "    'gradient_boosting':GradientBoostingClassifier(random_state=42),\n",
    "    'linear_discriminant_analysis':LinearDiscriminantAnalysis(),\n",
    "    'bagging':BaggingClassifier(random_state=42),\n",
    "    'neural_network':MLPClassifier(random_state=42,max_iter=1000),\n",
    "    'adaboost':AdaBoostClassifier(random_state=42),\n",
    "    'extra_trees':ExtraTreesClassifier(random_state=42),\n",
    "    }"
   ]
  },
  {
   "cell_type": "code",
   "execution_count": null,
   "id": "ec4fb58a",
   "metadata": {},
   "outputs": [],
   "source": [
    "# Function to get the feature importance of the classifier, and plot it\n",
    "def feat_importance_plot(model_trn, model_name):\n",
    "    if model_name not in ['sgd','support_vector_machine','gaussian_naive_bayes','k_nearest_neighbors','bagging','neural_network']:\n",
    "        # change xtick font size\n",
    "        plt.rcParams['xtick.labelsize'] = 12\n",
    "        plt.rcParams['ytick.labelsize'] = 12\n",
    "        # top 10 most predictive features\n",
    "        top_10_feat = FeatureImportances(model_trn, relative=False, topn=10)\n",
    "        # top 10 least predictive features\n",
    "        bottom_10_feat = FeatureImportances(model_trn, relative=False, topn=-10)\n",
    "        #change the figure size\n",
    "        plt.figure(figsize=(10, 4))\n",
    "        #change x label font size\n",
    "        plt.xlabel('xlabel', fontsize=14)\n",
    "        # Fit to get the feature importances\n",
    "        top_10_feat.fit(X_cc_train_prep, y_cc_train_prep)\n",
    "        # show the plot\n",
    "        top_10_feat.show()\n",
    "        print('\\n')\n",
    "        plt.figure(figsize=(10, 4))\n",
    "        plt.xlabel('xlabel', fontsize=14)\n",
    "        # Fit to get the feature importances\n",
    "        bottom_10_feat.fit(X_cc_train_prep, y_cc_train_prep)\n",
    "        # show the plot\n",
    "        bottom_10_feat.show()\n",
    "        print('\\n')\n",
    "    else:\n",
    "        print('No feature importance for {0}'.format(model_name))\n",
    "        print('\\n')"
   ]
  },
  {
   "cell_type": "code",
   "execution_count": null,
   "id": "3f0acaba",
   "metadata": {},
   "outputs": [],
   "source": [
    "# Function to get the y prediction\n",
    "def y_prediction_func(model_trn,model_name,final_model=False):\n",
    "    if final_model == False:\n",
    "        # check if y_train_copy_pred exists, if not create it\n",
    "        y_cc_train_pred_path = Path('saved_models/{0}/y_train_copy_pred_{0}.sav'.format(model_name))\n",
    "        try:\n",
    "            y_cc_train_pred_path.resolve(strict=True)\n",
    "        except FileNotFoundError:\n",
    "            #cross validation prediction with kfold = 10\n",
    "            y_cc_train_pred = cross_val_predict(model_trn,X_cc_train_prep,y_cc_train_prep,cv=10,n_jobs=-1)\n",
    "            #save the predictions\n",
    "            joblib.dump(y_cc_train_pred,y_cc_train_pred_path)\n",
    "            return y_cc_train_pred\n",
    "        else:\n",
    "            # if it exist load the predictions\n",
    "            y_cc_train_pred = joblib.load(y_cc_train_pred_path)\n",
    "            return y_cc_train_pred\n",
    "    else:\n",
    "        # check if y_train_copy_pred exists, if not create it\n",
    "        y_cc_train_pred_path_final = Path('saved_models_final/{0}/y_train_copy_pred_{0}_final.sav'.format(model_name))\n",
    "        try:\n",
    "            y_cc_train_pred_path_final.resolve(strict=True)\n",
    "        except FileNotFoundError:\n",
    "            #cross validation prediction with kfold = 10\n",
    "            y_cc_train_pred_final = cross_val_predict(model_trn,X_cc_train_prep,y_cc_train_prep,cv=10,n_jobs=-1)\n",
    "            #save the predictions\n",
    "            joblib.dump(y_cc_train_pred_final,y_cc_train_pred_path_final)\n",
    "            return y_cc_train_pred_final\n",
    "        else:\n",
    "            # if it exist load the predictions\n",
    "            y_cc_train_pred_final = joblib.load(y_cc_train_pred_path_final)\n",
    "            return y_cc_train_pred_final"
   ]
  },
  {
   "cell_type": "code",
   "execution_count": null,
   "id": "6a445fd3",
   "metadata": {},
   "outputs": [],
   "source": [
    "# Function to plot the confusion matrix\n",
    "def confusion_matrix_func(model_trn,model_name,final_model=False):\n",
    "    if final_model == False:\n",
    "        fig, ax = plt.subplots(figsize=(8,8))\n",
    "        #plot confusion matrix\n",
    "        conf_matrix = ConfusionMatrixDisplay.from_predictions(y_cc_train_prep,y_prediction_func(model_trn,model_name),ax=ax, cmap='Blues',values_format='d')\n",
    "        # remove the grid\n",
    "        plt.grid(visible=None)\n",
    "        # increase the font size of the x and y labels\n",
    "        plt.xlabel('Predicted label', fontsize=14)\n",
    "        plt.ylabel('True label', fontsize=14)\n",
    "        #give a title to the plot using the model name\n",
    "        plt.title('Confusion Matrix', fontsize=14)\n",
    "        #show the plot\n",
    "        plt.show()\n",
    "        print('\\n')\n",
    "    else:\n",
    "        fig, ax = plt.subplots(figsize=(8,8))\n",
    "        #plot confusion matrix\n",
    "        conf_matrix_final = ConfusionMatrixDisplay.from_predictions(y_cc_train_prep,y_prediction_func(model_trn,model_name,final_model=True),ax=ax, cmap='Blues',values_format='d')\n",
    "        # remove the grid\n",
    "        plt.grid(visible=None)\n",
    "        # increase the font size of the x and y labels\n",
    "        plt.xlabel('Predicted label', fontsize=14)\n",
    "        plt.ylabel('True label', fontsize=14)\n",
    "        #give a title to the plot using the model name\n",
    "        plt.title('Confusion Matrix', fontsize=14)\n",
    "        #show the plot\n",
    "        plt.show()\n",
    "        print('\\n')"
   ]
  },
  {
   "cell_type": "code",
   "execution_count": null,
   "id": "fb519db0",
   "metadata": {},
   "outputs": [],
   "source": [
    "# Function to plot the roc curve\n",
    "def roc_curve_func(model_trn,model_name,final_model=False):\n",
    "    if final_model == False:\n",
    "        # check if y probabilities file exists, if not create it\n",
    "        y_proba_path = Path('saved_models/{0}/y_cc_train_proba_{0}.sav'.format(model_name))\n",
    "        try:\n",
    "            y_proba_path.resolve(strict=True)\n",
    "        except FileNotFoundError:\n",
    "            y_cc_train_proba = model_trn.predict_proba(X_cc_train_prep)\n",
    "            joblib.dump(y_cc_train_proba,y_proba_path)\n",
    "        else:\n",
    "            # if path exist load the y probabilities file\n",
    "            y_cc_train_proba = joblib.load(y_proba_path)\n",
    "        skplt.metrics.plot_roc(y_cc_train_prep, y_cc_train_proba, title = 'ROC curve for {0}'.format(model_name), cmap='cool',figsize=(8,6), text_fontsize='large')\n",
    "        #remove the grid\n",
    "        plt.grid(visible=None)\n",
    "        plt.show()\n",
    "        print('\\n')\n",
    "    else:\n",
    "        # check if y probabilities file exists, if not create it\n",
    "        y_proba_path_final = Path('saved_models_final/{0}/y_cc_train_proba_{0}_final.sav'.format(model_name))\n",
    "        try:\n",
    "            y_proba_path_final.resolve(strict=True)\n",
    "        except FileNotFoundError:\n",
    "            y_cc_train_proba_final = model_trn.predict_proba(X_cc_train_prep)\n",
    "            joblib.dump(y_cc_train_proba_final,y_proba_path_final)\n",
    "        else:\n",
    "            # if path exist load the y probabilities file\n",
    "            y_cc_train_proba_final = joblib.load(y_proba_path_final)\n",
    "        skplt.metrics.plot_roc(y_cc_train_prep, y_cc_train_proba_final, title = 'ROC curve for {0}'.format(model_name), cmap='cool',figsize=(8,6), text_fontsize='large')\n",
    "        #remove the grid\n",
    "        plt.grid(visible=None)\n",
    "        plt.show()\n",
    "        print('\\n')"
   ]
  },
  {
   "cell_type": "code",
   "execution_count": null,
   "id": "cae72da7",
   "metadata": {},
   "outputs": [],
   "source": [
    "# Function to display the classification report\n",
    "def score_func(model_trn, model_name, final_model=False):\n",
    "    if final_model == False:\n",
    "        class_report = classification_report(y_cc_train_prep,y_prediction_func(model_trn,model_name))\n",
    "        print(class_report)\n",
    "    else:\n",
    "        class_report_final = classification_report(y_cc_train_prep,y_prediction_func(model_trn,model_name,final_model=True))\n",
    "        print(class_report_final)"
   ]
  },
  {
   "cell_type": "code",
   "execution_count": null,
   "id": "b3c824df",
   "metadata": {},
   "outputs": [],
   "source": [
    "# Function to train the model\n",
    "def train_model(model,model_name,final_model=False):\n",
    "    # if we are not training the final model\n",
    "    if final_model == False:\n",
    "        # check if the model file exist and if not create, train and save it\n",
    "        model_file_path = Path('saved_models/{0}/{0}_model.sav'.format(model_name))\n",
    "        try:\n",
    "            model_file_path.resolve(strict=True)\n",
    "        except FileNotFoundError:\n",
    "            if model_name == 'sgd':\n",
    "                # for sgd, loss = 'hinge' does not have a predict_proba method. Therefore, we use a calibrated model\n",
    "                calibrated_model = CalibratedClassifierCV(model, cv=10, method='sigmoid')\n",
    "                model_trn = calibrated_model.fit(X_cc_train_prep,y_cc_train_prep)\n",
    "            else:\n",
    "                model_trn = model.fit(X_cc_train_prep,y_cc_train_prep)\n",
    "            joblib.dump(model_trn,model_file_path)\n",
    "            # plot the most and least predictive features\n",
    "            return model_trn\n",
    "        else:\n",
    "            # if path exist load the model\n",
    "            model_trn = joblib.load(model_file_path)\n",
    "            # plot the most and least predictive features\n",
    "            return model_trn\n",
    "    else:\n",
    "        # check if the final model file exist and if not create, train and save it\n",
    "        final_model_file_path = Path('saved_models_final/{0}/{0}_model.sav'.format(model_name))\n",
    "        try:\n",
    "            final_model_file_path.resolve(strict=True)\n",
    "        except FileNotFoundError:\n",
    "            model_trn = model.fit(X_cc_train_prep,y_cc_train_prep)\n",
    "            joblib.dump(model_trn,final_model_file_path)\n",
    "            # plot the most and least predictive features\n",
    "            return model_trn\n",
    "        else:\n",
    "            # if path exist load the model\n",
    "            model_trn = joblib.load(final_model_file_path)\n",
    "            # plot the most and least predictive features\n",
    "            return model_trn"
   ]
  },
  {
   "cell_type": "code",
   "execution_count": null,
   "id": "1d268b37",
   "metadata": {},
   "outputs": [],
   "source": [
    "def folder_check_model():\n",
    "    # check if the folder for saving the model exists, if not create it\n",
    "    if not os.path.exists('saved_models/{}'.format(model_name)):\n",
    "        os.makedirs('saved_models/{}'.format(model_name))"
   ]
  },
  {
   "cell_type": "code",
   "execution_count": null,
   "id": "564fa546",
   "metadata": {},
   "outputs": [],
   "source": [
    "# loop over all the models\n",
    "for model_name,model in classifiers.items():\n",
    "    # title formatting\n",
    "    print('\\n')\n",
    "    print('\\n')\n",
    "    print('  {}  '.center(50,'-').format(model_name))\n",
    "    print('\\n')\n",
    "    # check if the folder for saving the model exists, if not create it\n",
    "    folder_check_model()\n",
    "    # train the model\n",
    "    model_trn = train_model(model,model_name)\n",
    "    # print the scores from the classification report\n",
    "    score_func(model_trn, model_name)\n",
    "    # plot the ROC curve\n",
    "    roc_curve_func(model_trn,model_name)\n",
    "    # plot the confusion matrix\n",
    "    confusion_matrix_func(model_trn,model_name)\n",
    "    # plot feature importance\n",
    "    feat_importance_plot(model_trn, model_name)\n",
    "    warnings.filterwarnings(\"ignore\")\n"
   ]
  },
  {
   "cell_type": "markdown",
   "id": "931fd0a5",
   "metadata": {},
   "source": [
    "## 4.2 What metrics to use for this problem?"
   ]
  },
  {
   "cell_type": "markdown",
   "id": "c7fe8aad",
   "metadata": {},
   "source": [
    "Since the objective of this problem is to minimize the risk of credit default for the financial institution, the metrics to use depends on the current economical situation:\n",
    "\n",
    "- During the time of a bull market (when the economy is expending), people feel wealthy and usually are employed. Money is usually cheap and the risk of default is low. The financial institution is able to handle the risk of default therefore is not very strict on giving out credit. The financial institution can handle a number of bad clients as long as the vast majority of applicants are good clients (aka those who payback their credit).In this case, having a good recall (sensitivity) is ideal.\n",
    "- During a bear market (when the economy is contracting), people loose their jobs and their money through the stock market. Many people struggle to meet their financial obligations. The financial institution therefore tend to be more conservative on giving out credit or loans. The financial institution can't afford to give out credit to clients who won't be able to pay back their credit. The financial institution would rather have a smaller number of good clients even if it means that some good clients where denied credit, and ideally not have any bad client. In this case, having a good precision (specificity) is desirable.\n",
    "\n",
    "Note: There is always a trade-off between precision and recall. Choosing the right metrics depends on the problem you are solving.\n",
    "\n",
    "Conclusion: In our case, since we are in the longest bull market (not including the March 2020 flash crash), we will use recall as our metric."
   ]
  },
  {
   "cell_type": "markdown",
   "id": "119177e6",
   "metadata": {},
   "source": [
    "## 4.3 Top model"
   ]
  },
  {
   "cell_type": "markdown",
   "id": "435211f8",
   "metadata": {},
   "source": [
    "Using the ROC curve and recall, we can that conclude that our top model is:\n",
    "- Gradient boosting classifier"
   ]
  },
  {
   "cell_type": "markdown",
   "id": "d8b3d9df",
   "metadata": {},
   "source": [
    "# 5. Test the final model on the test set"
   ]
  },
  {
   "cell_type": "code",
   "execution_count": null,
   "id": "748a82d1",
   "metadata": {},
   "outputs": [],
   "source": [
    "cc_test_copy.head(5)"
   ]
  },
  {
   "cell_type": "code",
   "execution_count": null,
   "metadata": {},
   "outputs": [],
   "source": [
    "cc_test_prep = full_pipeline(cc_test_copy)"
   ]
  },
  {
   "cell_type": "code",
   "execution_count": null,
   "id": "e48c822c",
   "metadata": {},
   "outputs": [],
   "source": [
    "# split the train data into X and y (target)\n",
    "X_cc_test_prep, y_cc_test_prep = cc_test_prep.loc[:, cc_test_prep.columns != 'Is high risk'], cc_test_prep['Is high risk'].astype('int64')"
   ]
  },
  {
   "cell_type": "code",
   "execution_count": null,
   "id": "cc12596c",
   "metadata": {},
   "outputs": [],
   "source": [
    "# train the model\n",
    "model_trn = train_model(classifiers['gradient_boosting'],'gradient_boosting')"
   ]
  },
  {
   "cell_type": "code",
   "execution_count": null,
   "id": "6b99728d",
   "metadata": {},
   "outputs": [],
   "source": [
    "final_predictions = model_trn.predict(X_cc_test_prep)"
   ]
  },
  {
   "cell_type": "code",
   "execution_count": null,
   "id": "c8c18be1",
   "metadata": {},
   "outputs": [],
   "source": [
    "final_predictions.shape"
   ]
  },
  {
   "cell_type": "code",
   "execution_count": null,
   "id": "eb525cf6",
   "metadata": {},
   "outputs": [],
   "source": [
    "n_correct = sum(final_predictions == y_cc_test_prep)"
   ]
  },
  {
   "cell_type": "code",
   "execution_count": null,
   "id": "f608a294",
   "metadata": {},
   "outputs": [],
   "source": [
    "print(n_correct/len(final_predictions))"
   ]
  }
 ],
 "metadata": {
  "colab": {
   "collapsed_sections": [
    "ef617426",
    "71feece0",
    "eb6ac952",
    "82b8daa8",
    "43cf4692",
    "e4ef4b64",
    "383a486c",
    "d24b8b90",
    "22b2affe",
    "c9786e58",
    "dae7bc71",
    "62891180",
    "b4837d9f",
    "032271c2",
    "ac1b59bf",
    "750c1952",
    "5d71d8db",
    "bb1b82aa",
    "92fa8814",
    "637435e4",
    "a117639a",
    "4a84ab5f",
    "c96fdc01",
    "dd46cce2",
    "d9f9562a",
    "a53e3e40",
    "b2f11d79",
    "adc52e6f",
    "542165dc",
    "1820631d",
    "fa853213",
    "4802cb32",
    "1bdc73b4",
    "59d18a0f",
    "719010d1",
    "9bfabb3c",
    "f8688612",
    "a341a4d9",
    "bf224df0",
    "e3ef0138",
    "d1bf7741",
    "bb580e40",
    "392a66c6",
    "f3dd9af0",
    "0d3e8cac",
    "f8f3ae43",
    "7e9e0265",
    "bf36a844",
    "e1323b10",
    "e8cdac8a",
    "266e10fe",
    "4cf706ff",
    "66c5e7b5",
    "6a42126b",
    "c6dd1f85",
    "c1a9d426",
    "08c9a89b"
   ],
   "name": "Credit card approval prediction.ipynb",
   "provenance": []
  },
  "kernelspec": {
   "display_name": "Python 3 (ipykernel)",
   "language": "python",
   "name": "python3"
  },
  "language_info": {
   "codemirror_mode": {
    "name": "ipython",
    "version": 3
   },
   "file_extension": ".py",
   "mimetype": "text/x-python",
   "name": "python",
   "nbconvert_exporter": "python",
   "pygments_lexer": "ipython3",
   "version": "3.12.1"
  }
 },
 "nbformat": 4,
 "nbformat_minor": 5
}
